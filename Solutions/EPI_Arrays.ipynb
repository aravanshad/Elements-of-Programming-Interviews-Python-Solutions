{
 "cells": [
  {
   "cell_type": "markdown",
   "metadata": {},
   "source": [
    "## Review on python libraries"
   ]
  },
  {
   "cell_type": "code",
   "execution_count": 1,
   "metadata": {},
   "outputs": [],
   "source": [
    "#Basic Operations\n",
    "#len(A), A.append(42), A.remove(2), A.insert(3, 28)"
   ]
  },
  {
   "cell_type": "markdown",
   "metadata": {},
   "source": [
    "**Copy**\n",
    "\n",
    "In C a variable is not just a name, it is a set of bits; a variable exists somewhere in memory. In Python variables are just tags attached to objects. Read [this article](http://henry.precheur.org/python/copy_list.html) about copying a list the right way."
   ]
  },
  {
   "cell_type": "code",
   "execution_count": 2,
   "metadata": {},
   "outputs": [
    {
     "data": {
      "text/plain": [
       "(4484004808, 4484004808, 4484005128, 4485118536)"
      ]
     },
     "execution_count": 2,
     "metadata": {},
     "output_type": "execute_result"
    }
   ],
   "source": [
    "A = [2,3,5,5,7,11,11,11,13]\n",
    "B = A\n",
    "C = A[:]\n",
    "D = list(A)\n",
    "id(A), id(B), id(C), id(D)"
   ]
  },
  {
   "cell_type": "markdown",
   "metadata": {},
   "source": [
    "In case of `deep copy`, any changes made to a copy of object do not reflect in the original object. Copying an object this way walks the whole object tree to create a fully independent clone of the original object and all of its children.\n",
    "In case of `shallow copy`, a reference of object is copied in other object. It means that any changes made to a copy of object do reflect in the original object.\n",
    "[This link](https://realpython.com/copying-python-objects/) provides more detail on this topic."
   ]
  },
  {
   "cell_type": "code",
   "execution_count": 3,
   "metadata": {},
   "outputs": [
    {
     "name": "stdout",
     "output_type": "stream",
     "text": [
      "[[1, 2, 3], [4, 'X', 6]] \n",
      " [[1, 2, 3], [4, 5, 6]]\n"
     ]
    }
   ],
   "source": [
    "import copy \n",
    "A = [[1,2,3],[4,5,6]]\n",
    "B = copy.copy(A)\n",
    "C = copy.deepcopy(A)\n",
    "A[1][1] = 'X'\n",
    "print(B,'\\n',C)"
   ]
  },
  {
   "cell_type": "markdown",
   "metadata": {},
   "source": [
    "**key methods**"
   ]
  },
  {
   "cell_type": "code",
   "execution_count": 4,
   "metadata": {},
   "outputs": [],
   "source": [
    "# min(A), max(A)"
   ]
  },
  {
   "cell_type": "code",
   "execution_count": 5,
   "metadata": {},
   "outputs": [
    {
     "name": "stdout",
     "output_type": "stream",
     "text": [
      "5 5 8\n"
     ]
    }
   ],
   "source": [
    "import bisect #Locate the insertion point for x in a to maintain sorted order\n",
    "A = [2,3,5,5,7,11,11,11,13]\n",
    "print (bisect.bisect(A, 10), \n",
    "       bisect.bisect_left(A, 11),\n",
    "       bisect.bisect_right(A, 11))"
   ]
  },
  {
   "cell_type": "code",
   "execution_count": 6,
   "metadata": {},
   "outputs": [
    {
     "data": {
      "text/plain": [
       "[0, 9, 6, 4, 7, 4, 2]"
      ]
     },
     "execution_count": 6,
     "metadata": {},
     "output_type": "execute_result"
    }
   ],
   "source": [
    "A = [2,4,7,4,6,9,0]\n",
    "\n",
    "A.reverse() #in-place\n",
    "A"
   ]
  },
  {
   "cell_type": "code",
   "execution_count": 7,
   "metadata": {},
   "outputs": [
    {
     "data": {
      "text/plain": [
       "<list_reverseiterator at 0x10b56c8d0>"
      ]
     },
     "execution_count": 7,
     "metadata": {},
     "output_type": "execute_result"
    }
   ],
   "source": [
    "reversed(A) #returns an iterator"
   ]
  },
  {
   "cell_type": "code",
   "execution_count": 8,
   "metadata": {},
   "outputs": [
    {
     "data": {
      "text/plain": [
       "[0, 2, 4, 4, 6, 7, 9]"
      ]
     },
     "execution_count": 8,
     "metadata": {},
     "output_type": "execute_result"
    }
   ],
   "source": [
    "A.sort() #in-place\n",
    "A"
   ]
  },
  {
   "cell_type": "code",
   "execution_count": 9,
   "metadata": {},
   "outputs": [
    {
     "data": {
      "text/plain": [
       "[0, 2, 4, 4, 6, 7, 9]"
      ]
     },
     "execution_count": 9,
     "metadata": {},
     "output_type": "execute_result"
    }
   ],
   "source": [
    "sorted(A) #returns a copy"
   ]
  },
  {
   "cell_type": "code",
   "execution_count": 10,
   "metadata": {},
   "outputs": [
    {
     "data": {
      "text/plain": [
       "[0, 2, 6, 7, 9]"
      ]
     },
     "execution_count": 10,
     "metadata": {},
     "output_type": "execute_result"
    }
   ],
   "source": [
    "del(A[2:4])\n",
    "A"
   ]
  },
  {
   "cell_type": "markdown",
   "metadata": {},
   "source": [
    "**Slicing**"
   ]
  },
  {
   "cell_type": "code",
   "execution_count": 11,
   "metadata": {},
   "outputs": [
    {
     "data": {
      "text/plain": [
       "[3, 7, 11]"
      ]
     },
     "execution_count": 11,
     "metadata": {},
     "output_type": "execute_result"
    }
   ],
   "source": [
    "A = [1,6,3,4,7,2,11,5,4]\n",
    "A[2:7:2]"
   ]
  },
  {
   "cell_type": "code",
   "execution_count": 12,
   "metadata": {},
   "outputs": [
    {
     "data": {
      "text/plain": [
       "[1, 6, 3, 4, 7, 2, 11, 5]"
      ]
     },
     "execution_count": 12,
     "metadata": {},
     "output_type": "execute_result"
    }
   ],
   "source": [
    "A[:-1]"
   ]
  },
  {
   "cell_type": "code",
   "execution_count": 13,
   "metadata": {},
   "outputs": [
    {
     "data": {
      "text/plain": [
       "[7, 2, 11, 5, 4, 1, 6, 3, 4]"
      ]
     },
     "execution_count": 13,
     "metadata": {},
     "output_type": "execute_result"
    }
   ],
   "source": [
    "#rotate a list\n",
    "k = 4\n",
    "A[k:] + A[:k]"
   ]
  },
  {
   "cell_type": "code",
   "execution_count": 14,
   "metadata": {},
   "outputs": [],
   "source": [
    "#create a copy\n",
    "B = A[:]"
   ]
  },
  {
   "cell_type": "markdown",
   "metadata": {},
   "source": [
    "**List comprehension** \n",
    "\n",
    "It consists of: \n",
    "- an input sequence\n",
    "- in iterator over the input sequence\n",
    "- a logical condition over the iterator(optional)\n",
    "- an expression that yields the elements of the derived list"
   ]
  },
  {
   "cell_type": "code",
   "execution_count": 15,
   "metadata": {},
   "outputs": [
    {
     "data": {
      "text/plain": [
       "[0, 1, 4, 9, 16, 25]"
      ]
     },
     "execution_count": 15,
     "metadata": {},
     "output_type": "execute_result"
    }
   ],
   "source": [
    "[x ** 2 for x in range(6)]"
   ]
  },
  {
   "cell_type": "code",
   "execution_count": 16,
   "metadata": {},
   "outputs": [
    {
     "data": {
      "text/plain": [
       "[0, 4, 16]"
      ]
     },
     "execution_count": 16,
     "metadata": {},
     "output_type": "execute_result"
    }
   ],
   "source": [
    "[x ** 2 for x in range(6) if x % 2 == 0]"
   ]
  },
  {
   "cell_type": "code",
   "execution_count": 17,
   "metadata": {},
   "outputs": [
    {
     "data": {
      "text/plain": [
       "[(1, 'x'), (1, 'y'), (2, 'x'), (2, 'y'), (3, 'x'), (3, 'y')]"
      ]
     },
     "execution_count": 17,
     "metadata": {},
     "output_type": "execute_result"
    }
   ],
   "source": [
    "#supports multiple levels of looping\n",
    "A = [1,2,3]\n",
    "B = ['x', 'y']\n",
    "[(x,y) for x in A for y in B]"
   ]
  },
  {
   "cell_type": "code",
   "execution_count": 18,
   "metadata": {},
   "outputs": [
    {
     "data": {
      "text/plain": [
       "['e', 'd', 'p', 'w', 'v', 'z']"
      ]
     },
     "execution_count": 18,
     "metadata": {},
     "output_type": "execute_result"
    }
   ],
   "source": [
    "#convert 2D list to 1D\n",
    "M = [['e', 'd', 'p'], ['w', 'v', 'z']]\n",
    "[x for row in M for x in row]"
   ]
  },
  {
   "cell_type": "code",
   "execution_count": 19,
   "metadata": {},
   "outputs": [
    {
     "data": {
      "text/plain": [
       "[[1, 16, 4], [36, 64, 0]]"
      ]
     },
     "execution_count": 19,
     "metadata": {},
     "output_type": "execute_result"
    }
   ],
   "source": [
    "M = [[1, 4, 2], [6, 8, 0]]\n",
    "[[x**2 for x in row] for row in M]"
   ]
  },
  {
   "cell_type": "markdown",
   "metadata": {},
   "source": [
    "---\n",
    "\n",
    "## Problems\n",
    "\n",
    "__5.1 The Dutch National Flag__"
   ]
  },
  {
   "cell_type": "code",
   "execution_count": 20,
   "metadata": {},
   "outputs": [],
   "source": [
    "# several implementations\n",
    "\n",
    "# first implementation\n",
    "# space complexity: O(1), time complexity: O(n^2)\n",
    "def dutch_flag_partition1(pivot_index, A):\n",
    "    pivot = A[pivot_index]\n",
    "    # first pass: group elements smaller than pivot\n",
    "    for i in range(len(A)):\n",
    "        for j in range(i+1, len(A)):\n",
    "            if A[j] < pivot:\n",
    "                A[i], A[j] = A[j], A[i]\n",
    "                break\n",
    "    \n",
    "    # second pass: group elements larger than pivot\n",
    "    for i in reversed(range(len(A))):\n",
    "        if A[i] < pivot:\n",
    "            break\n",
    "        for j in reversed(range(i)):\n",
    "            if A[j] > pivot:\n",
    "                A[i], A[j] = A[j], A[i]\n",
    "                break\n",
    "    return A        "
   ]
  },
  {
   "cell_type": "code",
   "execution_count": 21,
   "metadata": {},
   "outputs": [],
   "source": [
    "A1 = [0,1,2,0,2,1,1]"
   ]
  },
  {
   "cell_type": "code",
   "execution_count": 22,
   "metadata": {},
   "outputs": [
    {
     "data": {
      "text/plain": [
       "[0, 0, 1, 1, 2, 2, 1]"
      ]
     },
     "execution_count": 22,
     "metadata": {},
     "output_type": "execute_result"
    }
   ],
   "source": [
    "dutch_flag_partition1(3, A1)"
   ]
  },
  {
   "cell_type": "code",
   "execution_count": 23,
   "metadata": {},
   "outputs": [
    {
     "data": {
      "text/plain": [
       "[0, 0, 1, 1, 1, 2, 2]"
      ]
     },
     "execution_count": 23,
     "metadata": {},
     "output_type": "execute_result"
    }
   ],
   "source": [
    "dutch_flag_partition1(2, A1)"
   ]
  },
  {
   "cell_type": "code",
   "execution_count": 24,
   "metadata": {},
   "outputs": [],
   "source": [
    "# second implementation\n",
    "# space complexity: O(1), time complexity: O(n)\n",
    "def dutch_flag_partition2(pivot_index, A):\n",
    "    pivot = A[pivot_index]\n",
    "    # first pass: group elements smaller than pivot\n",
    "    smaller = 0\n",
    "    for i in range(len(A)):\n",
    "        if A[i] < pivot:\n",
    "            A[i], A[smaller] = A[smaller], A[i]\n",
    "            smaller += 1\n",
    "    # second pass: group elements larger than pivot        \n",
    "    larger = len(A)-1\n",
    "    for i in reversed(range(len(A))):\n",
    "        if A[i] < pivot:\n",
    "            break\n",
    "            \n",
    "        if A[i] > pivot:\n",
    "            A[i], A[larger] = A[larger], A[i]\n",
    "            larger -= 1\n",
    "            \n",
    "    return A"
   ]
  },
  {
   "cell_type": "code",
   "execution_count": 25,
   "metadata": {},
   "outputs": [
    {
     "data": {
      "text/plain": [
       "[0, 0, 1, 1, 1, 2, 2]"
      ]
     },
     "execution_count": 25,
     "metadata": {},
     "output_type": "execute_result"
    }
   ],
   "source": [
    "dutch_flag_partition2(3, A1)"
   ]
  },
  {
   "cell_type": "code",
   "execution_count": 26,
   "metadata": {},
   "outputs": [
    {
     "data": {
      "text/plain": [
       "[0, 0, 1, 1, 1, 2, 2]"
      ]
     },
     "execution_count": 26,
     "metadata": {},
     "output_type": "execute_result"
    }
   ],
   "source": [
    "dutch_flag_partition1(2, A1)"
   ]
  },
  {
   "cell_type": "code",
   "execution_count": 27,
   "metadata": {},
   "outputs": [],
   "source": [
    "# third implementation\n",
    "# space complexity: O(1), time complexity: O(n) --> reduces time at the cost of a tricker implementation\n",
    "def dutch_flag_partition3(pivot_index, A):\n",
    "    pivot = A[pivot_index]\n",
    "    \n",
    "    #keep the following invariants during the implementation\n",
    "    #bottom group: A[:smaller]\n",
    "    #middle group: A[smaller:equal]\n",
    "    #unclassified: A[equal:larger]:\n",
    "    #top group: A[larger:]\n",
    "    \n",
    "    smaller, equal, larger = 0, 0, len(A)-1\n",
    "    while equal < larger:\n",
    "        #A[equal] is the incoming unclassified element\n",
    "        if A[equal] < pivot:\n",
    "            A[smaller], A[equal] = A[equal], A[smaller]\n",
    "            samller, equal = smaller + 1, equal + 1\n",
    "            \n",
    "        elif A[equal] == pivot:\n",
    "            equal += 1\n",
    "            \n",
    "        else: # A[equal] > pivot\n",
    "            A[larger], A[equal] = A[equal], A[larger]\n",
    "            larger -= 1\n",
    "            \n",
    "    return A"
   ]
  },
  {
   "cell_type": "code",
   "execution_count": 28,
   "metadata": {},
   "outputs": [
    {
     "data": {
      "text/plain": [
       "[0, 0, 1, 1, 1, 2, 2]"
      ]
     },
     "execution_count": 28,
     "metadata": {},
     "output_type": "execute_result"
    }
   ],
   "source": [
    "dutch_flag_partition3(3, A1)"
   ]
  },
  {
   "cell_type": "code",
   "execution_count": 29,
   "metadata": {},
   "outputs": [
    {
     "data": {
      "text/plain": [
       "[0, 0, 1, 1, 1, 2, 2]"
      ]
     },
     "execution_count": 29,
     "metadata": {},
     "output_type": "execute_result"
    }
   ],
   "source": [
    "dutch_flag_partition3(2, A1)"
   ]
  },
  {
   "cell_type": "markdown",
   "metadata": {},
   "source": [
    "__5.2 Incrementing an arbitrary-precision integer__"
   ]
  },
  {
   "cell_type": "code",
   "execution_count": 30,
   "metadata": {},
   "outputs": [
    {
     "data": {
      "text/plain": [
       "[1, 0, 0, 0]"
      ]
     },
     "execution_count": 30,
     "metadata": {},
     "output_type": "execute_result"
    }
   ],
   "source": [
    "# time complexity O(n)\n",
    "def plus_one(A):\n",
    "    A[-1] += 1\n",
    "    for i in reversed(range(1, len(A))):\n",
    "        if A[i] != 10:\n",
    "            break\n",
    "        A[i] = 0\n",
    "        A[i-1] += 1\n",
    "    if A[0] == 10:\n",
    "        A[0] = 1\n",
    "        A.append(0)\n",
    "    return A\n",
    "\n",
    "n = [9,9,9]\n",
    "plus_one(n)"
   ]
  },
  {
   "cell_type": "code",
   "execution_count": 31,
   "metadata": {},
   "outputs": [
    {
     "data": {
      "text/plain": [
       "[1, 0, 0, 1, 0]"
      ]
     },
     "execution_count": 31,
     "metadata": {},
     "output_type": "execute_result"
    }
   ],
   "source": [
    "# 5.2 variant\n",
    "def binary_plus(A, B): \n",
    "    if len(A) > len(B):\n",
    "        A, B = B, A\n",
    "    dif = [0] * (len(B) - len(A))\n",
    "    A = dif + A\n",
    "    S = list(map(lambda x,y : x+y, A,B))\n",
    "    for i in reversed(range(1, len(S))):\n",
    "        if S[i] >= 2:\n",
    "            S[i] = S[i]%2\n",
    "            S[i-1] += 1\n",
    "    if S[0] >= 2:\n",
    "        S[0] = S[0]%2\n",
    "        S = [1] + S\n",
    "    return S\n",
    "\n",
    "M = [1, 1, 1]\n",
    "N = [1, 0, 1, 1]\n",
    "binary_plus(M, N)\n",
    "#must return: [1, 0, 0, 1, 0]"
   ]
  },
  {
   "cell_type": "code",
   "execution_count": 32,
   "metadata": {},
   "outputs": [
    {
     "data": {
      "text/plain": [
       "[1, 0, 1, 1, 0]"
      ]
     },
     "execution_count": 32,
     "metadata": {},
     "output_type": "execute_result"
    }
   ],
   "source": [
    "M = [1, 1, 1]\n",
    "N = [1, 1, 1, 1]\n",
    "binary_plus(M, N)\n",
    "#must return: [1, 0, 1, 1, 0]"
   ]
  },
  {
   "cell_type": "markdown",
   "metadata": {},
   "source": [
    "__5.3 Multiply Two Arbitrary-Precision Integers__"
   ]
  },
  {
   "cell_type": "code",
   "execution_count": 33,
   "metadata": {},
   "outputs": [],
   "source": [
    "# time complexity O(nm)\n",
    "def multiply(num1, num2):\n",
    "    sign = -1 if (num1[0] < 0) ^ (num2[0] < 0) else 1\n",
    "    num1[0], num2[0] = abs(num1[0]), abs(num2[0])\n",
    "    \n",
    "    result = [0] * (len(num1) + len(num2))\n",
    "    for i in reversed(range(len(num1))):\n",
    "        for j in reversed(range(len(num2))):\n",
    "            result[i+j+1] = num1[i] * num2[j]\n",
    "            result[i+j] += result[i+j+1] // 10\n",
    "            result[i+j+1] %= 10\n",
    "            \n",
    "    # removing the leading zeros\n",
    "    result = result[next((i for i,x in enumerate(result) if x != 0), len(result)):] or [0]\n",
    "    return[sign*result[0]] + result[1:]"
   ]
  },
  {
   "cell_type": "code",
   "execution_count": 34,
   "metadata": {},
   "outputs": [
    {
     "data": {
      "text/plain": [
       "[-8, 1, 1, 1, 1, 1]"
      ]
     },
     "execution_count": 34,
     "metadata": {},
     "output_type": "execute_result"
    }
   ],
   "source": [
    "n1 = [9,9,9]\n",
    "n2 = [-9,9,9]\n",
    "multiply(n1, n2)"
   ]
  },
  {
   "cell_type": "markdown",
   "metadata": {},
   "source": [
    "__5.4 Advancing Through An Array__"
   ]
  },
  {
   "cell_type": "code",
   "execution_count": 35,
   "metadata": {},
   "outputs": [],
   "source": [
    "# space complexity: O(1), time complexity: O(n)\n",
    "def can_reach_end(A):\n",
    "    '''\n",
    "    takes array of n integers (A), where A[i] denotes the maximum you can advance from index i\n",
    "    and returns whether it is possible to advance to the last index starting from the beginning of the array\n",
    "    '''\n",
    "    furthest_reach_so_far, last_index = 0, len(A) - 1\n",
    "    i = 0\n",
    "    while i <= furthest_reach_so_far and furthest_reach_so_far < last_index:\n",
    "        furthest_reach_so_far = max(furthest_reach_so_far, i + A[i])\n",
    "        i += 1\n",
    "        \n",
    "    return furthest_reach_so_far >= last_index"
   ]
  },
  {
   "cell_type": "code",
   "execution_count": 36,
   "metadata": {},
   "outputs": [
    {
     "data": {
      "text/plain": [
       "True"
      ]
     },
     "execution_count": 36,
     "metadata": {},
     "output_type": "execute_result"
    }
   ],
   "source": [
    "A1 = [3,3,1,0,2,0,1]\n",
    "can_reach_end(A1) # must return True"
   ]
  },
  {
   "cell_type": "code",
   "execution_count": 37,
   "metadata": {},
   "outputs": [
    {
     "data": {
      "text/plain": [
       "False"
      ]
     },
     "execution_count": 37,
     "metadata": {},
     "output_type": "execute_result"
    }
   ],
   "source": [
    "A2 = [3,2,0,0,2,0,1]\n",
    "can_reach_end(A2) # must return False"
   ]
  },
  {
   "cell_type": "code",
   "execution_count": 38,
   "metadata": {},
   "outputs": [],
   "source": [
    "# 5.4 Variant\n",
    "# recursive solution\n",
    "def minJumps(arr, l, h):\n",
    " \n",
    "    # Base case: when source and\n",
    "    # destination are same\n",
    "    if (h == l):\n",
    "        return 0\n",
    " \n",
    "    # when nothing is reachable \n",
    "    # from the given source\n",
    "    if (arr[l] == 0):\n",
    "        return float('inf')\n",
    " \n",
    "    # Traverse through all the points \n",
    "    # reachable from arr[l]. Recursively \n",
    "    # get the minimum number of jumps \n",
    "    # needed to reach arr[h] from \n",
    "    # these reachable points.\n",
    "    min = float('inf')\n",
    "    for i in range(l + 1, h + 1):\n",
    "        # print(l,i,l + arr[l] + 1,h)\n",
    "        if (i < l + arr[l] + 1):\n",
    "            jumps = minJumps(arr, i, h)\n",
    "            # print('j',jumps)\n",
    "            if (jumps != float('inf') and jumps + 1 < min):\n",
    "                min = jumps + 1\n",
    "            # print('m',min)\n",
    " \n",
    "    return min"
   ]
  },
  {
   "cell_type": "code",
   "execution_count": 39,
   "metadata": {},
   "outputs": [
    {
     "data": {
      "text/plain": [
       "4"
      ]
     },
     "execution_count": 39,
     "metadata": {},
     "output_type": "execute_result"
    }
   ],
   "source": [
    "arr = [1, 3, 6, 3, 2, 3, 6, 8, 9, 5]\n",
    "minJumps(arr, 0, len(arr)) # must return 4"
   ]
  },
  {
   "cell_type": "code",
   "execution_count": 40,
   "metadata": {},
   "outputs": [],
   "source": [
    "# 5.4 Variant\n",
    "#DP solution\n",
    "def minJumps(arr, n):\n",
    "    jumps = [0 for i in range(n)]\n",
    " \n",
    "    if (n == 0) or (arr[0] == 0):\n",
    "        return float('inf')\n",
    " \n",
    "    jumps[0] = 0\n",
    " \n",
    "    # Find the minimum number of \n",
    "    # jumps to reach arr[i] from \n",
    "    # arr[0] and assign this \n",
    "    # value to jumps[i]\n",
    "    for i in range(1, n):\n",
    "        jumps[i] = float('inf')\n",
    "        for j in range(i):\n",
    "            if (i <= j + arr[j]) and (jumps[j] != float('inf')):\n",
    "                jumps[i] = min(jumps[i], jumps[j] + 1)\n",
    "                break\n",
    "    return jumps[n-1]"
   ]
  },
  {
   "cell_type": "code",
   "execution_count": 41,
   "metadata": {},
   "outputs": [
    {
     "data": {
      "text/plain": [
       "3"
      ]
     },
     "execution_count": 41,
     "metadata": {},
     "output_type": "execute_result"
    }
   ],
   "source": [
    "minJumps(A1,len(A1)) # must return 3"
   ]
  },
  {
   "cell_type": "code",
   "execution_count": 42,
   "metadata": {},
   "outputs": [
    {
     "data": {
      "text/plain": [
       "inf"
      ]
     },
     "execution_count": 42,
     "metadata": {},
     "output_type": "execute_result"
    }
   ],
   "source": [
    "minJumps(A2,len(A2)) # must return inf"
   ]
  },
  {
   "cell_type": "code",
   "execution_count": 43,
   "metadata": {},
   "outputs": [
    {
     "data": {
      "text/plain": [
       "4"
      ]
     },
     "execution_count": 43,
     "metadata": {},
     "output_type": "execute_result"
    }
   ],
   "source": [
    "arr = [1, 3, 6, 3, 2, 3, 6, 8, 9, 5]\n",
    "minJumps(arr, len(arr)) # must return 4"
   ]
  },
  {
   "cell_type": "markdown",
   "metadata": {},
   "source": [
    "This [link](https://www.geeksforgeeks.org/minimum-number-of-jumps-to-reach-end-of-a-given-array/) covers solutions to the variant of the above problem. "
   ]
  },
  {
   "cell_type": "markdown",
   "metadata": {},
   "source": [
    "__5.5 delete duplicates from a sorted array__"
   ]
  },
  {
   "cell_type": "code",
   "execution_count": 44,
   "metadata": {},
   "outputs": [
    {
     "data": {
      "text/plain": [
       "[2, 3, 5, 7, 11, 13]"
      ]
     },
     "execution_count": 44,
     "metadata": {},
     "output_type": "execute_result"
    }
   ],
   "source": [
    "# time complexity O(n) and space complexity O(1)\n",
    "def delete_duplicates(A):\n",
    "    if not A:\n",
    "        return 0\n",
    "    \n",
    "    write_index = 1\n",
    "    for i in range(1, len(A)):\n",
    "        if A[write_index-1] != A[i]:\n",
    "            A[write_index] = A[i]\n",
    "            write_index += 1\n",
    "    return A[:write_index]\n",
    "    \n",
    "A = [2,3,5,5,7,11,11,11,13]\n",
    "delete_duplicates(A)"
   ]
  },
  {
   "cell_type": "code",
   "execution_count": 45,
   "metadata": {},
   "outputs": [
    {
     "data": {
      "text/plain": [
       "[2, 3, 5, 7, 11, 13]"
      ]
     },
     "execution_count": 45,
     "metadata": {},
     "output_type": "execute_result"
    }
   ],
   "source": [
    "# brute force \n",
    "def delete_duplicates(A):\n",
    "    ls = []\n",
    "    for i in range(len(A)):\n",
    "        if A[i] not in ls:\n",
    "            ls.append(A[i])\n",
    "    return ls\n",
    "\n",
    "A = [2,3,5,5,7,11,11,11,13]\n",
    "delete_duplicates(A)\n",
    "            "
   ]
  },
  {
   "cell_type": "code",
   "execution_count": 46,
   "metadata": {},
   "outputs": [],
   "source": [
    "# brute force (shift)\n",
    "# def delete_duplicates(A):\n",
    "#     ix = 0\n",
    "#     for i in range(len(A)-1):\n",
    "#         print (i, ix)\n",
    "#         if A[ix] == A[i+1]:\n",
    "#             A[ix+1:len(A)-1] = A[ix+2:len(A)]\n",
    "#         else:\n",
    "#             ix += 1\n",
    "#         print(A)\n",
    "#     return A\n",
    "\n",
    "# A = [2,3,5,5,7,11,11,11,13]\n",
    "# delete_duplicates(A)"
   ]
  },
  {
   "cell_type": "code",
   "execution_count": 47,
   "metadata": {},
   "outputs": [],
   "source": [
    "# 5.5 variant\n",
    "def remove_occurance(A, key):\n",
    "    '''\n",
    "    updates A so that all the occurances of the input key have been removed and\n",
    "    remaining elements have been shifted left to fill the emptied indecis\n",
    "    '''\n",
    "    if not A:\n",
    "        return 0\n",
    "    \n",
    "    write_index = 0\n",
    "    for i in range(len(A)):\n",
    "        if A[i] != key:\n",
    "            A[write_index] = A[i]\n",
    "            write_index += 1\n",
    "    \n",
    "    return A[:write_index]       \n"
   ]
  },
  {
   "cell_type": "code",
   "execution_count": 48,
   "metadata": {},
   "outputs": [
    {
     "data": {
      "text/plain": [
       "[2, 3, 1, 7, 11, 11, 13]"
      ]
     },
     "execution_count": 48,
     "metadata": {},
     "output_type": "execute_result"
    }
   ],
   "source": [
    "A1 = [2,3,1,5,7,5,11,11,13]\n",
    "remove_occurance(A1, 5)"
   ]
  },
  {
   "cell_type": "markdown",
   "metadata": {},
   "source": [
    "__5.6 buy and sell a stock once__\n",
    "\n"
   ]
  },
  {
   "cell_type": "code",
   "execution_count": 49,
   "metadata": {},
   "outputs": [],
   "source": [
    "# time complexity O(n) and space complexity O(1)\n",
    "def buy_and_sell_stock_once(prices):\n",
    "    min_price_so_far, max_profit = float('inf'), 0\n",
    "    for price in prices:\n",
    "        max_profit_sell_today = price - min_price_so_far\n",
    "        max_profit = max(max_profit, max_profit_sell_today)\n",
    "        min_price_so_far = min(min_price_so_far, price)\n",
    "    return max_profit"
   ]
  },
  {
   "cell_type": "code",
   "execution_count": 50,
   "metadata": {},
   "outputs": [
    {
     "data": {
      "text/plain": [
       "30"
      ]
     },
     "execution_count": 50,
     "metadata": {},
     "output_type": "execute_result"
    }
   ],
   "source": [
    "p1 = [310, 315, 275, 295, 260, 270, 290, 230, 255, 250]\n",
    "buy_and_sell_stock_once(p1) # must return 30"
   ]
  },
  {
   "cell_type": "markdown",
   "metadata": {},
   "source": [
    "__5.7 buy and sell a stock twice__"
   ]
  },
  {
   "cell_type": "code",
   "execution_count": 51,
   "metadata": {},
   "outputs": [],
   "source": [
    "# time complexity O(n) and space complexity O(n)\n",
    "def buy_and_sell_stock_twice(prices):\n",
    "    max_total_profit, min_price_so_far = 0, float('inf')\n",
    "    first_buy_sell_profits = [0] * len(prices)\n",
    "    for i, price in enumerate(prices):\n",
    "        min_price_so_far = min(min_price_so_far, price)\n",
    "        max_total_profit = max(max_total_profit, price - min_price_so_far)\n",
    "        first_buy_sell_profits[i] = max_total_profit\n",
    "        \n",
    "    max_price_so_far = float('-inf')\n",
    "    for i, price in reversed(list(enumerate(prices[1:], 1))):\n",
    "        max_price_so_far = max(max_price_so_far, price)\n",
    "        max_total_profit = max(max_total_profit, \n",
    "                               max_price_so_far - price + first_buy_sell_profits[i-1])\n",
    "    return max_total_profit"
   ]
  },
  {
   "cell_type": "code",
   "execution_count": 52,
   "metadata": {},
   "outputs": [
    {
     "data": {
      "text/plain": [
       "10"
      ]
     },
     "execution_count": 52,
     "metadata": {},
     "output_type": "execute_result"
    }
   ],
   "source": [
    "A1 = [12,11,13,9,12,8,14,13,15]\n",
    "buy_and_sell_stock_twice(A1)"
   ]
  },
  {
   "cell_type": "markdown",
   "metadata": {},
   "source": [
    "__5.9 Enumerate all primes to n__\n"
   ]
  },
  {
   "cell_type": "code",
   "execution_count": 53,
   "metadata": {},
   "outputs": [
    {
     "data": {
      "text/plain": [
       "[2, 3, 5, 7, 11, 13, 17, 19, 23, 29, 31, 37]"
      ]
     },
     "execution_count": 53,
     "metadata": {},
     "output_type": "execute_result"
    }
   ],
   "source": [
    "# time complexity O(n/2 + n/3 + n/5 + ...) --> O(nloglogn), space complexity O(n)\n",
    "def generate_primes(n):\n",
    "    primes = []\n",
    "    is_prime = [0, 0] + [1]*(n-1)\n",
    "    for p in range(2, n+1):\n",
    "        if is_prime[p]:\n",
    "            primes.append(p)\n",
    "            for i in range(p, n+1, p):\n",
    "                is_prime[i] = 0\n",
    "    return primes\n",
    "\n",
    "generate_primes(40)\n",
    "            "
   ]
  },
  {
   "cell_type": "code",
   "execution_count": 54,
   "metadata": {},
   "outputs": [
    {
     "data": {
      "text/plain": [
       "[2, 3, 5, 7, 11, 13, 17, 19, 23, 29, 31, 37]"
      ]
     },
     "execution_count": 54,
     "metadata": {},
     "output_type": "execute_result"
    }
   ],
   "source": [
    "# 5.9 Optimized version \n",
    "def generate_primes(n):\n",
    "    if n<2:\n",
    "        return []\n",
    "    primes = [2]\n",
    "    size = (n - 3) // 2 + 1\n",
    "    is_prime = [1]*size\n",
    "    for i in range(size):\n",
    "        if is_prime[i]:\n",
    "            p = 2*i + 3\n",
    "            primes.append(p)\n",
    "            for j in range(2*i**2 + 6*i +3, size, p):\n",
    "                is_prime[j] = 0\n",
    "    return primes\n",
    "\n",
    "generate_primes(40)"
   ]
  },
  {
   "cell_type": "markdown",
   "metadata": {},
   "source": [
    "__5.17 Sudoku checker__"
   ]
  },
  {
   "cell_type": "code",
   "execution_count": 55,
   "metadata": {},
   "outputs": [
    {
     "data": {
      "text/plain": [
       "True"
      ]
     },
     "execution_count": 55,
     "metadata": {},
     "output_type": "execute_result"
    }
   ],
   "source": [
    "# no real scope for algorithm optimization. It's all about a neat code\n",
    "import math\n",
    "def is_valid_sudoku(partial_assignment):\n",
    "    def has_duplicate(block):\n",
    "        block = list(filter(lambda x: x != 0, block))\n",
    "        return len(block) != len(set(block))\n",
    "    \n",
    "    n = len(partial_assignment)\n",
    "    if any(\n",
    "           has_duplicate([partial_assignment[i][j] for j in range(n)])\n",
    "           or has_duplicate([partial_assignment[j][i] for j in range(n)])\n",
    "           for i in range(n)             \n",
    "           ):\n",
    "        return False\n",
    "    \n",
    "    region_size = int(math.sqrt(n))\n",
    "    return all(not has_duplicate([\n",
    "        partial_assignment[a][b]\n",
    "        for a in range(region_size*ii, region_size*(ii+1))\n",
    "        for b in range(region_size*jj, region_size*(jj+1))\n",
    "    ]) for ii in range(region_size) for jj in range(region_size))\n",
    "\n",
    "pa = [[5, 3, 0, 0, 7, 0, 0, 0, 0],\n",
    "      [6, 0, 0, 1, 9, 5, 0, 0, 0],\n",
    "      [0, 9, 8, 0, 0, 0, 0, 6, 0],\n",
    "      [8, 0, 0, 0, 6, 0, 0, 0, 3],\n",
    "      [4, 0, 0, 8, 0, 3, 0, 0, 1],\n",
    "      [7, 0, 0, 0, 2, 0, 0, 0, 6],\n",
    "      [0, 6, 0, 0, 0, 0, 2, 8, 0],\n",
    "      [0, 0, 0, 4, 1, 9, 0, 0, 5],\n",
    "      [0, 0, 0, 0, 8, 0, 0, 7, 9]]\n",
    "\n",
    "is_valid_sudoku(pa)"
   ]
  },
  {
   "cell_type": "code",
   "execution_count": 56,
   "metadata": {},
   "outputs": [
    {
     "data": {
      "text/plain": [
       "True"
      ]
     },
     "execution_count": 56,
     "metadata": {},
     "output_type": "execute_result"
    }
   ],
   "source": [
    "## didn't understand\n",
    "import collections, math\n",
    "def is_valid_sudoku_pythonic(partial_assignment):\n",
    "    region_size = int(math.sqrt(len(partial_assignment)))\n",
    "    return max(\n",
    "        collections.Counter(k\n",
    "                            for i, row in enumerate(partial_assignment)\n",
    "                            for j, c in enumerate(row)\n",
    "                            if c!=0\n",
    "                            for k in ((i, str(c)), (str(c), j), (i / region_size, j / region_size,\n",
    "                                       str(c)))).values(), default=0) <=1\n",
    "is_valid_sudoku_pythonic(pa)"
   ]
  },
  {
   "cell_type": "code",
   "execution_count": null,
   "metadata": {},
   "outputs": [],
   "source": []
  }
 ],
 "metadata": {
  "kernelspec": {
   "display_name": "Python 3",
   "language": "python",
   "name": "python3"
  },
  "language_info": {
   "codemirror_mode": {
    "name": "ipython",
    "version": 3
   },
   "file_extension": ".py",
   "mimetype": "text/x-python",
   "name": "python",
   "nbconvert_exporter": "python",
   "pygments_lexer": "ipython3",
   "version": "3.6.5"
  }
 },
 "nbformat": 4,
 "nbformat_minor": 2
}

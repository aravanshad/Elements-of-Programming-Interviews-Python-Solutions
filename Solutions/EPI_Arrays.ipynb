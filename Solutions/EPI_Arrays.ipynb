{
 "cells": [
  {
   "cell_type": "code",
   "execution_count": 5,
   "metadata": {},
   "outputs": [
    {
     "data": {
      "text/plain": [
       "[1, 0, 0, 0]"
      ]
     },
     "execution_count": 5,
     "metadata": {},
     "output_type": "execute_result"
    }
   ],
   "source": [
    "# 5.2 Incrementing an arbitrary-precision integer\n",
    "# time complexity O(n)\n",
    "def plus_one(A):\n",
    "    A[-1] += 1\n",
    "    for i in reversed(range(1, len(A))):\n",
    "        if A[i] != 10:\n",
    "            break\n",
    "        A[i] = 0\n",
    "        A[i-1] += 1\n",
    "    if A[0] == 10:\n",
    "        A[0] = 1\n",
    "        A.append(0)\n",
    "    return A\n",
    "\n",
    "n = [9,9,9]\n",
    "plus_one(n)"
   ]
  },
  {
   "cell_type": "code",
   "execution_count": 2,
   "metadata": {},
   "outputs": [
    {
     "data": {
      "text/plain": [
       "[1, 0, 0, 1, 0]"
      ]
     },
     "execution_count": 2,
     "metadata": {},
     "output_type": "execute_result"
    }
   ],
   "source": [
    "# 5.2 variant\n",
    "def binary_plus(A, B): \n",
    "    if len(A)!=len(B):\n",
    "        dif = [0] * abs(len(A) - len(B))\n",
    "        if len(A) > len(B):\n",
    "            B = dif + B\n",
    "        else:\n",
    "            A = dif + A\n",
    "    S = map(lambda x,y : x+y, A,B)\n",
    "    for i in reversed(range(1, len(S))):\n",
    "        if S[i] >= 2:\n",
    "            S[i] = S[i]%2\n",
    "            S[i-1] += 1\n",
    "    if S[0] >= 2:\n",
    "        S[0] = S[0]%2\n",
    "        S = [1] + S\n",
    "    return S\n",
    "\n",
    "M = [1, 1, 1]\n",
    "N = [1, 0, 1, 1]\n",
    "binary_plus(M, N)"
   ]
  },
  {
   "cell_type": "code",
   "execution_count": 6,
   "metadata": {},
   "outputs": [
    {
     "data": {
      "text/plain": [
       "[2, 3, 5, 7, 11, 13]"
      ]
     },
     "execution_count": 6,
     "metadata": {},
     "output_type": "execute_result"
    }
   ],
   "source": [
    "# 5.5 delete duplicates from a sorted array\n",
    "# time complexity O(n) and space complexity O(1)\n",
    "def delete_duplicates(A):\n",
    "    if not A:\n",
    "        return 0\n",
    "    write_index = 1\n",
    "    for i in range(1, len(A)):\n",
    "        if A[write_index-1] != A[i]:\n",
    "            A[write_index] = A[i]\n",
    "            write_index += 1\n",
    "    return A[:write_index]\n",
    "    \n",
    "A = [2,3,5,5,7,11,11,11,13]\n",
    "delete_duplicates(A)"
   ]
  },
  {
   "cell_type": "code",
   "execution_count": 12,
   "metadata": {},
   "outputs": [
    {
     "data": {
      "text/plain": [
       "[2, 3, 5, 7, 11, 13]"
      ]
     },
     "execution_count": 12,
     "metadata": {},
     "output_type": "execute_result"
    }
   ],
   "source": [
    "# brute force \n",
    "def delete_duplicates(A):\n",
    "    ls = []\n",
    "    for i in range(len(A)):\n",
    "        if A[i] not in ls:\n",
    "            ls.append(A[i])\n",
    "    return ls\n",
    "\n",
    "A = [2,3,5,5,7,11,11,11,13]\n",
    "delete_duplicates(A)\n",
    "            "
   ]
  },
  {
   "cell_type": "code",
   "execution_count": 62,
   "metadata": {},
   "outputs": [],
   "source": [
    "# brute force (shift)\n",
    "# def delete_duplicates(A):\n",
    "#     ix = 0\n",
    "#     for i in range(len(A)-1):\n",
    "#         print (i, ix)\n",
    "#         if A[ix] == A[i+1]:\n",
    "#             A[ix+1:len(A)-1] = A[ix+2:len(A)]\n",
    "#         else:\n",
    "#             ix += 1\n",
    "#         print(A)\n",
    "#     return A\n",
    "\n",
    "# A = [2,3,5,5,7,11,11,11,13]\n",
    "# delete_duplicates(A)"
   ]
  },
  {
   "cell_type": "code",
   "execution_count": null,
   "metadata": {},
   "outputs": [],
   "source": [
    "# 5.5 variant"
   ]
  },
  {
   "cell_type": "code",
   "execution_count": 47,
   "metadata": {},
   "outputs": [],
   "source": [
    "# 5.5 variant"
   ]
  },
  {
   "cell_type": "code",
   "execution_count": 64,
   "metadata": {},
   "outputs": [
    {
     "data": {
      "text/plain": [
       "[2, 3, 5, 7, 11, 13, 17, 19, 23, 29, 31, 37]"
      ]
     },
     "execution_count": 64,
     "metadata": {},
     "output_type": "execute_result"
    }
   ],
   "source": [
    "# 5.9 Enumerate all primes to n\n",
    "# time complexity O(n/2 + n/3 + n/5 + ...) --> O(nloglogn), space complexity O(n)\n",
    "def generate_primes(n):\n",
    "    primes = []\n",
    "    is_prime = [0, 0] + [1]*(n-1)\n",
    "    for p in range(2, n+1):\n",
    "        if is_prime[p]:\n",
    "            primes.append(p)\n",
    "            for i in range(p, n+1, p):\n",
    "                is_prime[i] = 0\n",
    "    return primes\n",
    "\n",
    "generate_primes(40)\n",
    "            "
   ]
  },
  {
   "cell_type": "code",
   "execution_count": 63,
   "metadata": {},
   "outputs": [
    {
     "data": {
      "text/plain": [
       "[2, 3, 5, 7, 11, 13, 17, 19, 23, 29, 31, 37]"
      ]
     },
     "execution_count": 63,
     "metadata": {},
     "output_type": "execute_result"
    }
   ],
   "source": [
    "# 5.9 Optimized version \n",
    "def generate_primes(n):\n",
    "    if n<2:\n",
    "        return []\n",
    "    primes = [2]\n",
    "    size = (n - 3) // 2 + 1\n",
    "    is_prime = [1]*size\n",
    "    for i in range(size):\n",
    "        if is_prime[i]:\n",
    "            p = 2*i + 3\n",
    "            primes.append(p)\n",
    "            for j in range(2*i**2 + 6*i +3, size, p):\n",
    "                is_prime[j] = 0\n",
    "    return primes\n",
    "\n",
    "generate_primes(40)"
   ]
  },
  {
   "cell_type": "code",
   "execution_count": 7,
   "metadata": {},
   "outputs": [
    {
     "data": {
      "text/plain": [
       "True"
      ]
     },
     "execution_count": 7,
     "metadata": {},
     "output_type": "execute_result"
    }
   ],
   "source": [
    "# 5.17 Sudoku checker\n",
    "# no real scope for algorithm optimization. It's all about a neat code\n",
    "import math\n",
    "def is_valid_sudoku(partial_assignment):\n",
    "    def has_duplicate(block):\n",
    "        block = list(filter(lambda x: x != 0, block))\n",
    "        return len(block) != len(set(block))\n",
    "    \n",
    "    n = len(partial_assignment)\n",
    "    if any(\n",
    "           has_duplicate([partial_assignment[i][j] for j in range(n)])\n",
    "           or has_duplicate([partial_assignment[j][i] for j in range(n)])\n",
    "           for i in range(n)             \n",
    "           ):\n",
    "        return False\n",
    "    \n",
    "    region_size = int(math.sqrt(n))\n",
    "    return all(not has_duplicate([\n",
    "        partial_assignment[a][b]\n",
    "        for a in range(region_size*ii, region_size*(ii+1))\n",
    "        for b in range(region_size*jj, region_size*(jj+1))\n",
    "    ]) for ii in range(region_size) for jj in range(region_size))\n",
    "\n",
    "pa = [[5, 3, 0, 0, 7, 0, 0, 0, 0],\n",
    "      [6, 0, 0, 1, 9, 5, 0, 0, 0],\n",
    "      [0, 9, 8, 0, 0, 0, 0, 6, 0],\n",
    "      [8, 0, 0, 0, 6, 0, 0, 0, 3],\n",
    "      [4, 0, 0, 8, 0, 3, 0, 0, 1],\n",
    "      [7, 0, 0, 0, 2, 0, 0, 0, 6],\n",
    "      [0, 6, 0, 0, 0, 0, 2, 8, 0],\n",
    "      [0, 0, 0, 4, 1, 9, 0, 0, 5],\n",
    "      [0, 0, 0, 0, 8, 0, 0, 7, 9]]\n",
    "\n",
    "is_valid_sudoku(pa)"
   ]
  },
  {
   "cell_type": "code",
   "execution_count": 4,
   "metadata": {},
   "outputs": [
    {
     "data": {
      "text/plain": [
       "True"
      ]
     },
     "execution_count": 4,
     "metadata": {},
     "output_type": "execute_result"
    }
   ],
   "source": [
    "## didn't understand\n",
    "import collections, math\n",
    "def is_valid_sudoku_pythonic(partial_assignment):\n",
    "    region_size = int(math.sqrt(len(partial_assignment)))\n",
    "    return max(\n",
    "        collections.Counter(k\n",
    "                            for i, row in enumerate(partial_assignment)\n",
    "                            for j, c in enumerate(row)\n",
    "                            if c!=0\n",
    "                            for k in ((i, str(c)), (str(c), j), (i / region_size, j / region_size,\n",
    "                                       str(c)))).values(), default=0) <=1\n",
    "is_valid_sudoku_pythonic(pa)"
   ]
  },
  {
   "cell_type": "code",
   "execution_count": null,
   "metadata": {},
   "outputs": [],
   "source": []
  }
 ],
 "metadata": {
  "kernelspec": {
   "display_name": "Python 3",
   "language": "python",
   "name": "python3"
  },
  "language_info": {
   "codemirror_mode": {
    "name": "ipython",
    "version": 3
   },
   "file_extension": ".py",
   "mimetype": "text/x-python",
   "name": "python",
   "nbconvert_exporter": "python",
   "pygments_lexer": "ipython3",
   "version": "3.6.5"
  }
 },
 "nbformat": 4,
 "nbformat_minor": 2
}

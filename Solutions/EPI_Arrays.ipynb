{
 "cells": [
  {
   "cell_type": "markdown",
   "metadata": {},
   "source": [
    "## Review on python libraries"
   ]
  },
  {
   "cell_type": "code",
   "execution_count": 40,
   "metadata": {},
   "outputs": [],
   "source": [
    "#Basic Operations\n",
    "#len(A), A.append(42), A.remove(2), A.insert(3, 28)"
   ]
  },
  {
   "cell_type": "markdown",
   "metadata": {},
   "source": [
    "**Copy**\n",
    "\n",
    "In C a variable is not just a name, it is a set of bits; a variable exists somewhere in memory. In Python variables are just tags attached to objects. Read [this article](http://henry.precheur.org/python/copy_list.html) about copying a list the right way."
   ]
  },
  {
   "cell_type": "code",
   "execution_count": 44,
   "metadata": {},
   "outputs": [
    {
     "data": {
      "text/plain": [
       "(4448296392, 4448296392, 4446958280, 4448340744)"
      ]
     },
     "execution_count": 44,
     "metadata": {},
     "output_type": "execute_result"
    }
   ],
   "source": [
    "A = [2,3,5,5,7,11,11,11,13]\n",
    "B = A\n",
    "C = A[:]\n",
    "D = list(A)\n",
    "id(A), id(B), id(C), id(D)"
   ]
  },
  {
   "cell_type": "markdown",
   "metadata": {},
   "source": [
    "In case of `deep copy`, any changes made to a copy of object do not reflect in the original object. Copying an object this way walks the whole object tree to create a fully independent clone of the original object and all of its children.\n",
    "In case of `shallow copy`, a reference of object is copied in other object. It means that any changes made to a copy of object do reflect in the original object.\n",
    "[This link](https://realpython.com/copying-python-objects/) provides more detail on this topic."
   ]
  },
  {
   "cell_type": "code",
   "execution_count": 59,
   "metadata": {},
   "outputs": [
    {
     "name": "stdout",
     "output_type": "stream",
     "text": [
      "[[1, 2, 3], [4, 'X', 6]] \n",
      " [[1, 2, 3], [4, 5, 6]]\n"
     ]
    }
   ],
   "source": [
    "import copy \n",
    "A = [[1,2,3],[4,5,6]]\n",
    "B = copy.copy(A)\n",
    "C = copy.deepcopy(A)\n",
    "A[1][1] = 'X'\n",
    "print(B,'\\n',C)"
   ]
  },
  {
   "cell_type": "markdown",
   "metadata": {},
   "source": [
    "**key methods**"
   ]
  },
  {
   "cell_type": "code",
   "execution_count": null,
   "metadata": {},
   "outputs": [],
   "source": [
    "# min(A), max(A)"
   ]
  },
  {
   "cell_type": "code",
   "execution_count": 75,
   "metadata": {},
   "outputs": [
    {
     "name": "stdout",
     "output_type": "stream",
     "text": [
      "5 5 8\n"
     ]
    }
   ],
   "source": [
    "import bisect #Locate the insertion point for x in a to maintain sorted order\n",
    "A = [2,3,5,5,7,11,11,11,13]\n",
    "print (bisect.bisect(A, 10), \n",
    "       bisect.bisect_left(A, 11),\n",
    "       bisect.bisect_right(A, 11))"
   ]
  },
  {
   "cell_type": "code",
   "execution_count": 90,
   "metadata": {},
   "outputs": [
    {
     "data": {
      "text/plain": [
       "[0, 9, 6, 4, 7, 4, 2]"
      ]
     },
     "execution_count": 90,
     "metadata": {},
     "output_type": "execute_result"
    }
   ],
   "source": [
    "A = [2,4,7,4,6,9,0]\n",
    "\n",
    "A.reverse() #in-place\n",
    "A"
   ]
  },
  {
   "cell_type": "code",
   "execution_count": 91,
   "metadata": {},
   "outputs": [
    {
     "data": {
      "text/plain": [
       "<list_reverseiterator at 0x10925ba90>"
      ]
     },
     "execution_count": 91,
     "metadata": {},
     "output_type": "execute_result"
    }
   ],
   "source": [
    "reversed(A) #returns an iterator"
   ]
  },
  {
   "cell_type": "code",
   "execution_count": 92,
   "metadata": {},
   "outputs": [
    {
     "data": {
      "text/plain": [
       "[0, 2, 4, 4, 6, 7, 9]"
      ]
     },
     "execution_count": 92,
     "metadata": {},
     "output_type": "execute_result"
    }
   ],
   "source": [
    "A.sort() #in-place\n",
    "A"
   ]
  },
  {
   "cell_type": "code",
   "execution_count": 93,
   "metadata": {},
   "outputs": [
    {
     "data": {
      "text/plain": [
       "[0, 2, 4, 4, 6, 7, 9]"
      ]
     },
     "execution_count": 93,
     "metadata": {},
     "output_type": "execute_result"
    }
   ],
   "source": [
    "sorted(A) #returns a copy"
   ]
  },
  {
   "cell_type": "code",
   "execution_count": 94,
   "metadata": {},
   "outputs": [
    {
     "data": {
      "text/plain": [
       "[0, 2, 6, 7, 9]"
      ]
     },
     "execution_count": 94,
     "metadata": {},
     "output_type": "execute_result"
    }
   ],
   "source": [
    "del(A[2:4])\n",
    "A"
   ]
  },
  {
   "cell_type": "markdown",
   "metadata": {},
   "source": [
    "**Slicing**"
   ]
  },
  {
   "cell_type": "code",
   "execution_count": 97,
   "metadata": {},
   "outputs": [
    {
     "data": {
      "text/plain": [
       "[3, 7, 11]"
      ]
     },
     "execution_count": 97,
     "metadata": {},
     "output_type": "execute_result"
    }
   ],
   "source": [
    "A = [1,6,3,4,7,2,11,5,4]\n",
    "A[2:7:2]"
   ]
  },
  {
   "cell_type": "code",
   "execution_count": 98,
   "metadata": {},
   "outputs": [
    {
     "data": {
      "text/plain": [
       "[1, 6, 3, 4, 7, 2, 11, 5]"
      ]
     },
     "execution_count": 98,
     "metadata": {},
     "output_type": "execute_result"
    }
   ],
   "source": [
    "A[:-1]"
   ]
  },
  {
   "cell_type": "code",
   "execution_count": 100,
   "metadata": {},
   "outputs": [
    {
     "data": {
      "text/plain": [
       "[7, 2, 11, 5, 4, 1, 6, 3, 4]"
      ]
     },
     "execution_count": 100,
     "metadata": {},
     "output_type": "execute_result"
    }
   ],
   "source": [
    "#rotate a list\n",
    "k = 4\n",
    "A[k:] + A[:k]"
   ]
  },
  {
   "cell_type": "code",
   "execution_count": 101,
   "metadata": {},
   "outputs": [],
   "source": [
    "#create a copy\n",
    "B = A[:]"
   ]
  },
  {
   "cell_type": "markdown",
   "metadata": {},
   "source": [
    "**List comprehension** \n",
    "\n",
    "It consists of: \n",
    "- an input sequence\n",
    "- in iterator over the input sequence\n",
    "- a logical condition over the iterator(optional)\n",
    "- an expression that yields the elements of the derived list"
   ]
  },
  {
   "cell_type": "code",
   "execution_count": 102,
   "metadata": {},
   "outputs": [
    {
     "data": {
      "text/plain": [
       "[0, 1, 4, 9, 16, 25]"
      ]
     },
     "execution_count": 102,
     "metadata": {},
     "output_type": "execute_result"
    }
   ],
   "source": [
    "[x ** 2 for x in range(6)]"
   ]
  },
  {
   "cell_type": "code",
   "execution_count": 104,
   "metadata": {},
   "outputs": [
    {
     "data": {
      "text/plain": [
       "[0, 4, 16]"
      ]
     },
     "execution_count": 104,
     "metadata": {},
     "output_type": "execute_result"
    }
   ],
   "source": [
    "[x ** 2 for x in range(6) if x % 2 == 0]"
   ]
  },
  {
   "cell_type": "code",
   "execution_count": 105,
   "metadata": {},
   "outputs": [
    {
     "data": {
      "text/plain": [
       "[(1, 'x'), (1, 'y'), (2, 'x'), (2, 'y'), (3, 'x'), (3, 'y')]"
      ]
     },
     "execution_count": 105,
     "metadata": {},
     "output_type": "execute_result"
    }
   ],
   "source": [
    "#supports multiple levels of looping\n",
    "A = [1,2,3]\n",
    "B = ['x', 'y']\n",
    "[(x,y) for x in A for y in B]"
   ]
  },
  {
   "cell_type": "code",
   "execution_count": 109,
   "metadata": {},
   "outputs": [
    {
     "data": {
      "text/plain": [
       "['e', 'd', 'p', 'w', 'v', 'z']"
      ]
     },
     "execution_count": 109,
     "metadata": {},
     "output_type": "execute_result"
    }
   ],
   "source": [
    "#convert 2D list to 1D\n",
    "M = [['e', 'd', 'p'], ['w', 'v', 'z']]\n",
    "[x for row in M for x in row]"
   ]
  },
  {
   "cell_type": "code",
   "execution_count": 111,
   "metadata": {},
   "outputs": [
    {
     "data": {
      "text/plain": [
       "[[1, 16, 4], [36, 64, 0]]"
      ]
     },
     "execution_count": 111,
     "metadata": {},
     "output_type": "execute_result"
    }
   ],
   "source": [
    "M = [[1, 4, 2], [6, 8, 0]]\n",
    "[[x**2 for x in row] for row in M]"
   ]
  },
  {
   "cell_type": "markdown",
   "metadata": {},
   "source": [
    "---\n",
    "\n",
    "## Problems\n",
    "\n",
    "__5.1 The Dutch National Flag__"
   ]
  },
  {
   "cell_type": "code",
   "execution_count": 114,
   "metadata": {},
   "outputs": [],
   "source": [
    "# several implementations\n",
    "\n",
    "# first implementation\n",
    "# space complexity: O(1), time complexity: O(n^2)\n",
    "def dutch_flag_partition1(pivot_index, A):\n",
    "    pivot = A[pivot_index]\n",
    "    # first pass: group elements smaller than pivot\n",
    "    for i in range(len(A)):\n",
    "        for j in range(i+1, len(A)):\n",
    "            if A[j] < pivot:\n",
    "                A[i], A[j] = A[j], A[i]\n",
    "                break\n",
    "    \n",
    "    # second pass: group elements larger than pivot\n",
    "    for i in reversed(range(len(A))):\n",
    "        if A[i] < pivot:\n",
    "            break\n",
    "        for j in reversed(range(i)):\n",
    "            if A[j] > pivot:\n",
    "                A[i], A[j] = A[j], A[i]\n",
    "                break\n",
    "    return A        "
   ]
  },
  {
   "cell_type": "code",
   "execution_count": 117,
   "metadata": {},
   "outputs": [],
   "source": [
    "A1 = [0,1,2,0,2,1,1]"
   ]
  },
  {
   "cell_type": "code",
   "execution_count": 118,
   "metadata": {},
   "outputs": [
    {
     "data": {
      "text/plain": [
       "[0, 0, 1, 1, 2, 2, 1]"
      ]
     },
     "execution_count": 118,
     "metadata": {},
     "output_type": "execute_result"
    }
   ],
   "source": [
    "dutch_flag_partition1(3, A1)"
   ]
  },
  {
   "cell_type": "code",
   "execution_count": 119,
   "metadata": {},
   "outputs": [
    {
     "data": {
      "text/plain": [
       "[0, 0, 1, 1, 1, 2, 2]"
      ]
     },
     "execution_count": 119,
     "metadata": {},
     "output_type": "execute_result"
    }
   ],
   "source": [
    "dutch_flag_partition1(2, A1)"
   ]
  },
  {
   "cell_type": "code",
   "execution_count": 122,
   "metadata": {},
   "outputs": [],
   "source": [
    "# second implementation\n",
    "# space complexity: O(1), time complexity: O(n)\n",
    "def dutch_flag_partition2(pivot_index, A):\n",
    "    pivot = A[pivot_index]\n",
    "    # first pass: group elements smaller than pivot\n",
    "    smaller = 0\n",
    "    for i in range(len(A)):\n",
    "        if A[i] < pivot:\n",
    "            A[i], A[smaller] = A[smaller], A[i]\n",
    "            smaller += 1\n",
    "    # second pass: group elements larger than pivot        \n",
    "    larger = len(A)-1\n",
    "    for i in reversed(range(len(A))):\n",
    "        if A[i] < pivot:\n",
    "            break\n",
    "            \n",
    "        if A[i] > pivot:\n",
    "            A[i], A[larger] = A[larger], A[i]\n",
    "            larger -= 1\n",
    "            \n",
    "    return A"
   ]
  },
  {
   "cell_type": "code",
   "execution_count": 123,
   "metadata": {},
   "outputs": [
    {
     "data": {
      "text/plain": [
       "[0, 0, 1, 1, 1, 2, 2]"
      ]
     },
     "execution_count": 123,
     "metadata": {},
     "output_type": "execute_result"
    }
   ],
   "source": [
    "dutch_flag_partition2(3, A1)"
   ]
  },
  {
   "cell_type": "code",
   "execution_count": 124,
   "metadata": {},
   "outputs": [
    {
     "data": {
      "text/plain": [
       "[0, 0, 1, 1, 1, 2, 2]"
      ]
     },
     "execution_count": 124,
     "metadata": {},
     "output_type": "execute_result"
    }
   ],
   "source": [
    "dutch_flag_partition1(2, A1)"
   ]
  },
  {
   "cell_type": "code",
   "execution_count": 127,
   "metadata": {},
   "outputs": [],
   "source": [
    "# second implementation\n",
    "# space complexity: O(1), time complexity: O(n) --> reduces time at the cost of a tricker implementation\n",
    "def dutch_flag_partition3(pivot_index, A):\n",
    "    pivot = A[pivot_index]\n",
    "    \n",
    "    #keep the following invariants during the implementation\n",
    "    #bottom group: A[:smaller]\n",
    "    #middle group: A[smaller:equal]\n",
    "    #unclassified: A[equal:larger]:\n",
    "    #top group: A[larger:]\n",
    "    \n",
    "    smaller, equal, larger = 0, 0, len(A)-1\n",
    "    while equal < larger:\n",
    "        #A[equal] is the incoming unclassified element\n",
    "        if A[equal] < pivot:\n",
    "            A[smaller], A[equal] = A[equal], A[smaller]\n",
    "            samller, equal = smaller + 1, equal + 1\n",
    "            \n",
    "        elif A[equal] == pivot:\n",
    "            equal += 1\n",
    "            \n",
    "        else: # A[equal] > pivot\n",
    "            A[larger], A[equal] = A[equal], A[larger]\n",
    "            larger -= 1\n",
    "            \n",
    "    return A"
   ]
  },
  {
   "cell_type": "code",
   "execution_count": 128,
   "metadata": {},
   "outputs": [
    {
     "data": {
      "text/plain": [
       "[0, 0, 1, 1, 1, 2, 2]"
      ]
     },
     "execution_count": 128,
     "metadata": {},
     "output_type": "execute_result"
    }
   ],
   "source": [
    "dutch_flag_partition3(3, A1)"
   ]
  },
  {
   "cell_type": "code",
   "execution_count": 129,
   "metadata": {},
   "outputs": [
    {
     "data": {
      "text/plain": [
       "[0, 0, 1, 1, 1, 2, 2]"
      ]
     },
     "execution_count": 129,
     "metadata": {},
     "output_type": "execute_result"
    }
   ],
   "source": [
    "dutch_flag_partition3(2, A1)"
   ]
  },
  {
   "cell_type": "markdown",
   "metadata": {},
   "source": [
    "__5.2 Incrementing an arbitrary-precision integer__"
   ]
  },
  {
   "cell_type": "code",
   "execution_count": 5,
   "metadata": {},
   "outputs": [
    {
     "data": {
      "text/plain": [
       "[1, 0, 0, 0]"
      ]
     },
     "execution_count": 5,
     "metadata": {},
     "output_type": "execute_result"
    }
   ],
   "source": [
    "# time complexity O(n)\n",
    "def plus_one(A):\n",
    "    A[-1] += 1\n",
    "    for i in reversed(range(1, len(A))):\n",
    "        if A[i] != 10:\n",
    "            break\n",
    "        A[i] = 0\n",
    "        A[i-1] += 1\n",
    "    if A[0] == 10:\n",
    "        A[0] = 1\n",
    "        A.append(0)\n",
    "    return A\n",
    "\n",
    "n = [9,9,9]\n",
    "plus_one(n)"
   ]
  },
  {
   "cell_type": "code",
   "execution_count": 2,
   "metadata": {},
   "outputs": [
    {
     "data": {
      "text/plain": [
       "[1, 0, 0, 1, 0]"
      ]
     },
     "execution_count": 2,
     "metadata": {},
     "output_type": "execute_result"
    }
   ],
   "source": [
    "# 5.2 variant\n",
    "def binary_plus(A, B): \n",
    "    if len(A)!=len(B):\n",
    "        dif = [0] * abs(len(A) - len(B))\n",
    "        if len(A) > len(B):\n",
    "            B = dif + B\n",
    "        else:\n",
    "            A = dif + A\n",
    "    S = map(lambda x,y : x+y, A,B)\n",
    "    for i in reversed(range(1, len(S))):\n",
    "        if S[i] >= 2:\n",
    "            S[i] = S[i]%2\n",
    "            S[i-1] += 1\n",
    "    if S[0] >= 2:\n",
    "        S[0] = S[0]%2\n",
    "        S = [1] + S\n",
    "    return S\n",
    "\n",
    "M = [1, 1, 1]\n",
    "N = [1, 0, 1, 1]\n",
    "binary_plus(M, N)"
   ]
  },
  {
   "cell_type": "markdown",
   "metadata": {},
   "source": [
    "__5.5 delete duplicates from a sorted array__"
   ]
  },
  {
   "cell_type": "code",
   "execution_count": 6,
   "metadata": {},
   "outputs": [
    {
     "data": {
      "text/plain": [
       "[2, 3, 5, 7, 11, 13]"
      ]
     },
     "execution_count": 6,
     "metadata": {},
     "output_type": "execute_result"
    }
   ],
   "source": [
    "# time complexity O(n) and space complexity O(1)\n",
    "def delete_duplicates(A):\n",
    "    if not A:\n",
    "        return 0\n",
    "    write_index = 1\n",
    "    for i in range(1, len(A)):\n",
    "        if A[write_index-1] != A[i]:\n",
    "            A[write_index] = A[i]\n",
    "            write_index += 1\n",
    "    return A[:write_index]\n",
    "    \n",
    "A = [2,3,5,5,7,11,11,11,13]\n",
    "delete_duplicates(A)"
   ]
  },
  {
   "cell_type": "code",
   "execution_count": 12,
   "metadata": {},
   "outputs": [
    {
     "data": {
      "text/plain": [
       "[2, 3, 5, 7, 11, 13]"
      ]
     },
     "execution_count": 12,
     "metadata": {},
     "output_type": "execute_result"
    }
   ],
   "source": [
    "# brute force \n",
    "def delete_duplicates(A):\n",
    "    ls = []\n",
    "    for i in range(len(A)):\n",
    "        if A[i] not in ls:\n",
    "            ls.append(A[i])\n",
    "    return ls\n",
    "\n",
    "A = [2,3,5,5,7,11,11,11,13]\n",
    "delete_duplicates(A)\n",
    "            "
   ]
  },
  {
   "cell_type": "code",
   "execution_count": 62,
   "metadata": {},
   "outputs": [],
   "source": [
    "# brute force (shift)\n",
    "# def delete_duplicates(A):\n",
    "#     ix = 0\n",
    "#     for i in range(len(A)-1):\n",
    "#         print (i, ix)\n",
    "#         if A[ix] == A[i+1]:\n",
    "#             A[ix+1:len(A)-1] = A[ix+2:len(A)]\n",
    "#         else:\n",
    "#             ix += 1\n",
    "#         print(A)\n",
    "#     return A\n",
    "\n",
    "# A = [2,3,5,5,7,11,11,11,13]\n",
    "# delete_duplicates(A)"
   ]
  },
  {
   "cell_type": "code",
   "execution_count": null,
   "metadata": {},
   "outputs": [],
   "source": [
    "# 5.5 variant"
   ]
  },
  {
   "cell_type": "code",
   "execution_count": 47,
   "metadata": {},
   "outputs": [],
   "source": [
    "# 5.5 variant"
   ]
  },
  {
   "cell_type": "markdown",
   "metadata": {},
   "source": [
    "__5.9 Enumerate all primes to n__\n"
   ]
  },
  {
   "cell_type": "code",
   "execution_count": 64,
   "metadata": {},
   "outputs": [
    {
     "data": {
      "text/plain": [
       "[2, 3, 5, 7, 11, 13, 17, 19, 23, 29, 31, 37]"
      ]
     },
     "execution_count": 64,
     "metadata": {},
     "output_type": "execute_result"
    }
   ],
   "source": [
    "# time complexity O(n/2 + n/3 + n/5 + ...) --> O(nloglogn), space complexity O(n)\n",
    "def generate_primes(n):\n",
    "    primes = []\n",
    "    is_prime = [0, 0] + [1]*(n-1)\n",
    "    for p in range(2, n+1):\n",
    "        if is_prime[p]:\n",
    "            primes.append(p)\n",
    "            for i in range(p, n+1, p):\n",
    "                is_prime[i] = 0\n",
    "    return primes\n",
    "\n",
    "generate_primes(40)\n",
    "            "
   ]
  },
  {
   "cell_type": "code",
   "execution_count": 63,
   "metadata": {},
   "outputs": [
    {
     "data": {
      "text/plain": [
       "[2, 3, 5, 7, 11, 13, 17, 19, 23, 29, 31, 37]"
      ]
     },
     "execution_count": 63,
     "metadata": {},
     "output_type": "execute_result"
    }
   ],
   "source": [
    "# 5.9 Optimized version \n",
    "def generate_primes(n):\n",
    "    if n<2:\n",
    "        return []\n",
    "    primes = [2]\n",
    "    size = (n - 3) // 2 + 1\n",
    "    is_prime = [1]*size\n",
    "    for i in range(size):\n",
    "        if is_prime[i]:\n",
    "            p = 2*i + 3\n",
    "            primes.append(p)\n",
    "            for j in range(2*i**2 + 6*i +3, size, p):\n",
    "                is_prime[j] = 0\n",
    "    return primes\n",
    "\n",
    "generate_primes(40)"
   ]
  },
  {
   "cell_type": "markdown",
   "metadata": {},
   "source": [
    "__5.17 Sudoku checker__"
   ]
  },
  {
   "cell_type": "code",
   "execution_count": 7,
   "metadata": {},
   "outputs": [
    {
     "data": {
      "text/plain": [
       "True"
      ]
     },
     "execution_count": 7,
     "metadata": {},
     "output_type": "execute_result"
    }
   ],
   "source": [
    "# no real scope for algorithm optimization. It's all about a neat code\n",
    "import math\n",
    "def is_valid_sudoku(partial_assignment):\n",
    "    def has_duplicate(block):\n",
    "        block = list(filter(lambda x: x != 0, block))\n",
    "        return len(block) != len(set(block))\n",
    "    \n",
    "    n = len(partial_assignment)\n",
    "    if any(\n",
    "           has_duplicate([partial_assignment[i][j] for j in range(n)])\n",
    "           or has_duplicate([partial_assignment[j][i] for j in range(n)])\n",
    "           for i in range(n)             \n",
    "           ):\n",
    "        return False\n",
    "    \n",
    "    region_size = int(math.sqrt(n))\n",
    "    return all(not has_duplicate([\n",
    "        partial_assignment[a][b]\n",
    "        for a in range(region_size*ii, region_size*(ii+1))\n",
    "        for b in range(region_size*jj, region_size*(jj+1))\n",
    "    ]) for ii in range(region_size) for jj in range(region_size))\n",
    "\n",
    "pa = [[5, 3, 0, 0, 7, 0, 0, 0, 0],\n",
    "      [6, 0, 0, 1, 9, 5, 0, 0, 0],\n",
    "      [0, 9, 8, 0, 0, 0, 0, 6, 0],\n",
    "      [8, 0, 0, 0, 6, 0, 0, 0, 3],\n",
    "      [4, 0, 0, 8, 0, 3, 0, 0, 1],\n",
    "      [7, 0, 0, 0, 2, 0, 0, 0, 6],\n",
    "      [0, 6, 0, 0, 0, 0, 2, 8, 0],\n",
    "      [0, 0, 0, 4, 1, 9, 0, 0, 5],\n",
    "      [0, 0, 0, 0, 8, 0, 0, 7, 9]]\n",
    "\n",
    "is_valid_sudoku(pa)"
   ]
  },
  {
   "cell_type": "code",
   "execution_count": 4,
   "metadata": {},
   "outputs": [
    {
     "data": {
      "text/plain": [
       "True"
      ]
     },
     "execution_count": 4,
     "metadata": {},
     "output_type": "execute_result"
    }
   ],
   "source": [
    "## didn't understand\n",
    "import collections, math\n",
    "def is_valid_sudoku_pythonic(partial_assignment):\n",
    "    region_size = int(math.sqrt(len(partial_assignment)))\n",
    "    return max(\n",
    "        collections.Counter(k\n",
    "                            for i, row in enumerate(partial_assignment)\n",
    "                            for j, c in enumerate(row)\n",
    "                            if c!=0\n",
    "                            for k in ((i, str(c)), (str(c), j), (i / region_size, j / region_size,\n",
    "                                       str(c)))).values(), default=0) <=1\n",
    "is_valid_sudoku_pythonic(pa)"
   ]
  },
  {
   "cell_type": "code",
   "execution_count": null,
   "metadata": {},
   "outputs": [],
   "source": []
  }
 ],
 "metadata": {
  "kernelspec": {
   "display_name": "Python 3",
   "language": "python",
   "name": "python3"
  },
  "language_info": {
   "codemirror_mode": {
    "name": "ipython",
    "version": 3
   },
   "file_extension": ".py",
   "mimetype": "text/x-python",
   "name": "python",
   "nbconvert_exporter": "python",
   "pygments_lexer": "ipython3",
   "version": "3.6.5"
  }
 },
 "nbformat": 4,
 "nbformat_minor": 2
}

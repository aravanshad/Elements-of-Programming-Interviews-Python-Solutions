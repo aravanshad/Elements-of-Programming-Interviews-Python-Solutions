{
 "cells": [
  {
   "cell_type": "markdown",
   "metadata": {},
   "source": [
    "### Search"
   ]
  },
  {
   "cell_type": "code",
   "execution_count": 1,
   "metadata": {},
   "outputs": [
    {
     "data": {
      "text/plain": [
       "(3, 4)"
      ]
     },
     "execution_count": 1,
     "metadata": {},
     "output_type": "execute_result"
    }
   ],
   "source": [
    "# using built-in library\n",
    "import bisect\n",
    "A = [-14, -10, 2, 108, 243, 285, 401]\n",
    "bisect.bisect_left(A,108), bisect.bisect_right(A,108)"
   ]
  },
  {
   "cell_type": "code",
   "execution_count": 34,
   "metadata": {},
   "outputs": [
    {
     "data": {
      "text/plain": [
       "3"
      ]
     },
     "execution_count": 34,
     "metadata": {},
     "output_type": "execute_result"
    }
   ],
   "source": [
    "def bsearch(t, A):\n",
    "    L, U = 0, len(A)-1\n",
    "    while L <= U:\n",
    "        M = L + (U-L)/2\n",
    "        if A[M] == t:\n",
    "            return M\n",
    "        elif A[M] < t:\n",
    "            L = M + 1\n",
    "        else: \n",
    "            U = M - 1\n",
    "    return -1\n",
    "\n",
    "A = [-14, -10, 2, 108, 243, 285, 401]\n",
    "bsearch(108, A)           "
   ]
  },
  {
   "cell_type": "code",
   "execution_count": 33,
   "metadata": {},
   "outputs": [
    {
     "name": "stdout",
     "output_type": "stream",
     "text": [
      "3\n",
      "6\n"
     ]
    }
   ],
   "source": [
    "# 11.1 Search a sorted array for the first ocuurance of k\n",
    "# Naive Approach\n",
    "# O(logn) + O(n)\n",
    "def first_occur(k, A):\n",
    "    '''\n",
    "    takes a sorted array and a key and returns the index of \n",
    "    the first occurrence of that key in the array.\n",
    "    \n",
    "    first_occur(108, A) = 3\n",
    "    first_occur(285, A) = 6\n",
    "    '''\n",
    "    L, U = 0, len(A) - 1\n",
    "    while L <= U:\n",
    "        M = (L + U) // 2\n",
    "        if A[M] < k:\n",
    "            L = M + 1\n",
    "        elif A[M] > k:\n",
    "            U = M - 1\n",
    "        else:\n",
    "            while A[M]==k:\n",
    "                M -= 1\n",
    "            return M+1          \n",
    "    return -1\n",
    "\n",
    "A = [-14, -10, 2, 108, 108, 243, 285, 285, 285, 401]\n",
    "print first_occur(108, A)\n",
    "print first_occur(285, A)"
   ]
  },
  {
   "cell_type": "code",
   "execution_count": 35,
   "metadata": {},
   "outputs": [
    {
     "name": "stdout",
     "output_type": "stream",
     "text": [
      "3\n",
      "6\n"
     ]
    }
   ],
   "source": [
    "# bsearch based approach\n",
    "# O(logn)\n",
    "def first_occur(k, A):\n",
    "    '''\n",
    "    takes a sorted array and a key and returns the index of \n",
    "    the first occurrence of that key in the array.\n",
    "    \n",
    "    first_occur(108, A) = 3\n",
    "    first_occur(285, A) = 6\n",
    "    '''\n",
    "    left, right, result  = 0, len(A)-1, -1\n",
    "    while left <= right:\n",
    "        mid = (left + right) // 2\n",
    "        if A[mid] > k:\n",
    "            right = mid - 1\n",
    "        elif A[mid]==k:\n",
    "            result = mid\n",
    "            right = mid - 1\n",
    "        else: # A[M] < k\n",
    "            left = mid + 1\n",
    "    return result\n",
    "\n",
    "A = [-14, -10, 2, 108, 108, 243, 285, 285, 285, 401]\n",
    "print first_occur(108, A)\n",
    "print first_occur(285, A)"
   ]
  },
  {
   "cell_type": "code",
   "execution_count": 41,
   "metadata": {},
   "outputs": [
    {
     "name": "stdout",
     "output_type": "stream",
     "text": [
      "9\n",
      "1\n"
     ]
    }
   ],
   "source": [
    "# 11.1. Variant 1\n",
    "def first_occur_greater(k, A):\n",
    "    \n",
    "    '''\n",
    "     takes a sorted array and a key, and finds the index of \n",
    "     the first occurrence of an element greater than that key.\n",
    "     \n",
    "     first_occur_greater(285, A) = 9\n",
    "     first_occur_greater(-14, A) = 1\n",
    "    '''\n",
    "    \n",
    "    L, U = 0, len(A)-1\n",
    "    out = -1\n",
    "    while L <= U:\n",
    "        M = (L + U) // 2\n",
    "        if A[M] < k:\n",
    "            L = M + 1\n",
    "        elif A[M] > k:\n",
    "            U = M - 1\n",
    "        elif A[M] == k:\n",
    "            L = M + 1\n",
    "            out = L\n",
    "    return out\n",
    "\n",
    "print first_occur_greater(285, A)\n",
    "print first_occur_greater(-14, A)"
   ]
  },
  {
   "cell_type": "markdown",
   "metadata": {},
   "source": [
    "**11.1. Variant 2 **Let A be an unsorted array of n integers, with A[0] ≥ A[1] and A[n − 2] ≤ A[n − 1]. Call an index i a local minimum if A[i] is less than or equal to its neighbors. How would you efficiently find a local minimum, if one exists?"
   ]
  },
  {
   "cell_type": "code",
   "execution_count": 22,
   "metadata": {},
   "outputs": [],
   "source": [
    "B = [100, 55, -14, -10, 2, 108, 108, 243, 285, 285, 285, 401]"
   ]
  },
  {
   "cell_type": "code",
   "execution_count": 32,
   "metadata": {},
   "outputs": [
    {
     "data": {
      "image/png": "[encoded data removed]",
      "text/plain": [
       "<matplotlib.figure.Figure at 0x106da20d0>"
      ]
     },
     "metadata": {},
     "output_type": "display_data"
    }
   ],
   "source": [
    "from matplotlib import pyplot as plt\n",
    "% matplotlib inline\n",
    "\n",
    "ax = plt.plot(B,'o--')"
   ]
  },
  {
   "cell_type": "code",
   "execution_count": null,
   "metadata": {
    "collapsed": true
   },
   "outputs": [],
   "source": [
    "def local_min(A):\n",
    "    \n",
    "    '''\n",
    "    find a local minimum\n",
    "    \n",
    "    local_min(A) = 2\n",
    "    '''\n",
    "    \n",
    "    "
   ]
  },
  {
   "cell_type": "code",
   "execution_count": null,
   "metadata": {
    "collapsed": true
   },
   "outputs": [],
   "source": []
  },
  {
   "cell_type": "markdown",
   "metadata": {},
   "source": [
    "Variant: Write a program which takes a sorted array A of integers, and an integer k, and returns the interval enclosing k, i.e., the pair of integers L and U such that L is the first occurrence of k in A and U is the last occurrence of k in A. If k does not appear in A, return [−1, −1]. For example if A = ⟨1,2,2,4,4,4,7,11,11,13⟩ and k = 11, you should return [7,8]."
   ]
  },
  {
   "cell_type": "code",
   "execution_count": 6,
   "metadata": {},
   "outputs": [
    {
     "name": "stdout",
     "output_type": "stream",
     "text": [
      "6\n",
      "9\n"
     ]
    }
   ],
   "source": [
    "def first_occur_smaller(k, A):\n",
    "    \n",
    "    '''\n",
    "     takes a sorted array and a key, and finds the index of \n",
    "     the first occurrence of an element greater than that key.\n",
    "     \n",
    "     A = [-14, -10, 2, 108, 108, 243, 285, 285, 285, 401]\n",
    "     \n",
    "     first_occur_greater(285, A) = 6\n",
    "     first_occur_greater(401, A) = 8\n",
    "    '''\n",
    "    \n",
    "    L, U = 0, len(A) - 1\n",
    "    out = -1\n",
    "    while L <= U:\n",
    "        M = (L + U) // 2\n",
    "        if A[M] < k:\n",
    "            L = M + 1\n",
    "        elif A[M] > k:\n",
    "            U = M - 1\n",
    "        elif A[M] == k:\n",
    "            U = M - 1\n",
    "            out = L\n",
    "    return out\n",
    "\n",
    "print first_occur_smaller(285, A)\n",
    "print first_occur_smaller(401, A)"
   ]
  },
  {
   "cell_type": "code",
   "execution_count": 1,
   "metadata": {},
   "outputs": [
    {
     "name": "stdout",
     "output_type": "stream",
     "text": [
      "[-1, -1]\n",
      "[9, 9]\n"
     ]
    }
   ],
   "source": [
    "def interval_enclosing(k, A):\n",
    "    \n",
    "    '''\n",
    "     takes a sorted array A of integers, and an integer k, \n",
    "     and returns the interval enclosing k.\n",
    "     \n",
    "     A = [1,2,2,4,4,4,7,11,11,13]\n",
    "     \n",
    "     interval_enclosing(6, A) = [-1, -1]\n",
    "     interval_enclosing(11, A) = [7, 8]\n",
    "    '''\n",
    "    \n",
    "    L1, U1 = 0, len(A) - 1\n",
    "    L2, U2 = 0, len(A) - 1\n",
    "    out1, out2 = -1, -1\n",
    "    while L <= U:\n",
    "        M = (L + U) // 2\n",
    "        if A[M] < k:\n",
    "            L = M + 1\n",
    "        elif A[M] > k:\n",
    "            U = M - 1\n",
    "        elif A[M] == k:\n",
    "            L = M + 1\n",
    "            U = M + 1\n",
    "            out1 = L\n",
    "            out2 = L\n",
    "    return [out1, out2]\n",
    "\n",
    "A = [1,2,2,4,4,4,7,11,11,13]\n",
    "\n",
    "print interval_enclosing(6, A)\n",
    "print interval_enclosing(11, A)"
   ]
  },
  {
   "cell_type": "markdown",
   "metadata": {},
   "source": [
    "Variant: Write a program which tests if p is a prefix of a string in an array of sorted strings."
   ]
  },
  {
   "cell_type": "code",
   "execution_count": 43,
   "metadata": {},
   "outputs": [
    {
     "data": {
      "text/plain": [
       "4"
      ]
     },
     "execution_count": 43,
     "metadata": {},
     "output_type": "execute_result"
    }
   ],
   "source": [
    "# 11.3 search a cyclic sorted array\n",
    "# time complexity is O(logn)\n",
    "def search_smallest(A):\n",
    "    left, right = 0, len(A)-1\n",
    "    while left < right:\n",
    "        mid = (left + right)//2\n",
    "        if A[mid] > A[right]:\n",
    "            left = mid+1\n",
    "        else: # A[mid] < A[right]\n",
    "            right = mid\n",
    "    return left\n",
    "\n",
    "A = [378, 478, 550, 631, 103, 203, 220, 234, 279, 368]\n",
    "search_smallest(A)\n",
    "# this problem cannot be solved in lass than O(n) when elements may be repeated.\n",
    "# e.g. A = [1, 1, 1, 1, 0]"
   ]
  },
  {
   "cell_type": "code",
   "execution_count": 2,
   "metadata": {},
   "outputs": [
    {
     "data": {
      "text/plain": [
       "6"
      ]
     },
     "execution_count": 2,
     "metadata": {},
     "output_type": "execute_result"
    }
   ],
   "source": [
    "# 11.4 integer square root \n",
    "# time complexity O(logk)\n",
    "def square_root(k):\n",
    "    left, right = 0, k\n",
    "    while left <= right:\n",
    "        mid = (left + right)//2\n",
    "        mid_squared = mid * mid\n",
    "        if mid_squared <= k:\n",
    "            left = mid + 1\n",
    "        else:\n",
    "            right = mid - 1\n",
    "    return left - 1\n",
    "\n",
    "square_root(41)"
   ]
  },
  {
   "cell_type": "code",
   "execution_count": 30,
   "metadata": {},
   "outputs": [
    {
     "name": "stdout",
     "output_type": "stream",
     "text": [
      "2\n",
      "5 12\n",
      "1 2 3 7 5\n",
      "10 15\n",
      "1 2 3 4 5 6 7 8 9 10\n",
      "sum found btw\n",
      "indecis 2 and 4\n",
      "sum found btw\n",
      "indecis 1 and 5\n"
     ]
    }
   ],
   "source": [
    "def sub_sum(arr, n, s):\n",
    "    for i in range(n):\n",
    "        current_sum = arr[i]\n",
    "        j = i+1\n",
    "        while j <= n:\n",
    "            if current_sum == s:\n",
    "                print ('sum found btw')\n",
    "                print ('indecis {} and {}'.format(i+1, j))\n",
    "                \n",
    "                return 1\n",
    "                \n",
    "            elif current_sum > s or j==n:\n",
    "                break\n",
    "            current_sum += arr[j]\n",
    "            j+=1\n",
    "            \n",
    "    print ('no subarray found')\n",
    "    return 0\n",
    "    \n",
    "ntc = input()\n",
    "ns, target, array = {}, {}, {}\n",
    "for i in range(int(ntc)):\n",
    "    ls = list(map(int, input().strip().split(' ')))\n",
    "    ns[i], target[i] = ls[0], ls[1]\n",
    "    array[i] = list(map(int,input().strip().split(' ')))\n",
    "    \n",
    "for i in range(int(ntc)):\n",
    "    sub_sum(array[i], ns[i], target[i])"
   ]
  },
  {
   "cell_type": "code",
   "execution_count": 1,
   "metadata": {},
   "outputs": [
    {
     "name": "stdout",
     "output_type": "stream",
     "text": [
      "Preorder traversal of binary tree is\n",
      "1 2 4 5 3 \n",
      "Inorder traversal of binary tree is\n",
      "4 2 5 1 3 \n",
      "Postorder traversal of binary tree is\n",
      "4 5 2 3 1\n"
     ]
    }
   ],
   "source": [
    "# Python program to for tree traversals\n",
    " \n",
    "# A class that represents an individual node in a\n",
    "# Binary Tree\n",
    "class Node:\n",
    "    def __init__(self,key):\n",
    "        self.left = None\n",
    "        self.right = None\n",
    "        self.val = key\n",
    " \n",
    " \n",
    "# A function to do inorder tree traversal\n",
    "def printInorder(root):\n",
    " \n",
    "    if root:\n",
    " \n",
    "        # First recur on left child\n",
    "        printInorder(root.left),\n",
    " \n",
    "        # then print the data of node\n",
    "        print(root.val),\n",
    " \n",
    "        # now recur on right child\n",
    "        printInorder(root.right)\n",
    " \n",
    " \n",
    "# A function to do postorder tree traversal\n",
    "def printPostorder(root):\n",
    " \n",
    "    if root:\n",
    " \n",
    "        # First recur on left child\n",
    "        printPostorder(root.left)\n",
    " \n",
    "        # the recur on right child\n",
    "        printPostorder(root.right)\n",
    " \n",
    "        # now print the data of node\n",
    "        print(root.val),\n",
    " \n",
    " \n",
    "# A function to do postorder tree traversal\n",
    "def printPreorder(root):\n",
    " \n",
    "    if root:\n",
    " \n",
    "        # First print the data of node\n",
    "        print(root.val),\n",
    " \n",
    "        # Then recur on left child\n",
    "        printPreorder(root.left)\n",
    " \n",
    "        # Finally recur on right child\n",
    "        printPreorder(root.right)\n",
    " \n",
    " \n",
    "# Driver code\n",
    "root = Node(1)\n",
    "root.left      = Node(2)\n",
    "root.right     = Node(3)\n",
    "root.left.left  = Node(4)\n",
    "root.left.right  = Node(5)\n",
    "print (\"Preorder traversal of binary tree is\")\n",
    "printPreorder(root)\n",
    " \n",
    "print (\"\\nInorder traversal of binary tree is\")\n",
    "printInorder(root)\n",
    " \n",
    "print (\"\\nPostorder traversal of binary tree is\")\n",
    "printPostorder(root)"
   ]
  },
  {
   "cell_type": "code",
   "execution_count": null,
   "metadata": {},
   "outputs": [],
   "source": []
  }
 ],
 "metadata": {
  "kernelspec": {
   "display_name": "Python [conda root]",
   "language": "python",
   "name": "conda-root-py"
  },
  "language_info": {
   "codemirror_mode": {
    "name": "ipython",
    "version": 2
   },
   "file_extension": ".py",
   "mimetype": "text/x-python",
   "name": "python",
   "nbconvert_exporter": "python",
   "pygments_lexer": "ipython2",
   "version": "2.7.13"
  }
 },
 "nbformat": 4,
 "nbformat_minor": 2
}

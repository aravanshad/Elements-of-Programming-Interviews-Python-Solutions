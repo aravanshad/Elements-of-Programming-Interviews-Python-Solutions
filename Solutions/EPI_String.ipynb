{
 "cells": [
  {
   "cell_type": "code",
   "execution_count": 1,
   "metadata": {},
   "outputs": [
    {
     "data": {
      "text/plain": [
       "(False, True)"
      ]
     },
     "execution_count": 1,
     "metadata": {},
     "output_type": "execute_result"
    }
   ],
   "source": [
    "# 6.5 Test palindromicity\n",
    "# time complexity O(1)*n(length of string) = O(n)\n",
    "def is_palindrome(s):\n",
    "    i, j = 0, len(s)-1\n",
    "    while not s[i].isalnum():\n",
    "        i += 1\n",
    "    while not s[j].isalnum():\n",
    "        j -= 1\n",
    "    if s[i].lower() != s[j].lower():\n",
    "        return False\n",
    "    i += 1\n",
    "    j -= 1\n",
    "    return True\n",
    "\n",
    "s1 = 'Ray is Ray'\n",
    "s2 = 'Able was I, ere I saw ElbA!'\n",
    "is_palindrome(s1), is_palindrome(s2)"
   ]
  },
  {
   "cell_type": "code",
   "execution_count": 3,
   "metadata": {},
   "outputs": [
    {
     "data": {
      "text/plain": [
       "bytearray(b'to ra ke koshtast')"
      ]
     },
     "execution_count": 3,
     "metadata": {},
     "output_type": "execute_result"
    }
   ],
   "source": [
    "# 6.6 Reverse all the words\n",
    "# time complexity O(n), additional space complexity is O(1)\n",
    "# s is bytearray\n",
    "def reverse_words(s):\n",
    "    s.reverse()\n",
    "    \n",
    "    def reverse_range(s, start, end):\n",
    "        while start < end:\n",
    "            s[start], s[end] = s[end], s[start]\n",
    "            start, end = start+1, end-1\n",
    "            \n",
    "    start=0\n",
    "    while True:\n",
    "        end = s.find(b' ', start)\n",
    "        if end < 0:\n",
    "            break\n",
    "    \n",
    "        reverse_range(s, start, end-1)\n",
    "        start = end + 1\n",
    "    # last word\n",
    "    reverse_range(s, start, len(s)-1)\n",
    "    return s\n",
    "\n",
    "s2 = bytearray(b'koshtast ke ra to')\n",
    "reverse_words(s2)"
   ]
  },
  {
   "cell_type": "code",
   "execution_count": 3,
   "metadata": {},
   "outputs": [
    {
     "data": {
      "text/plain": [
       "['AD', 'AE', 'AF', 'BD', 'BE', 'BF', 'CD', 'CE', 'CF']"
      ]
     },
     "execution_count": 3,
     "metadata": {},
     "output_type": "execute_result"
    }
   ],
   "source": [
    "# 6.7 Mnemonics for a phone number using recursion\n",
    "# time complexity O(n4^n)\n",
    "MAPPING = ('0', '1', 'ABC', 'DEF', 'GHI', 'JKL', 'MNO', 'PQRS', 'TUV', 'WXYZ')\n",
    "\n",
    "def phone_mnemonic(phone_number):\n",
    "    def phone_mnemonic_helper(digit):\n",
    "        if digit == len(phone_number):\n",
    "            mnemonic.append(''.join(partial_mnemonic))\n",
    "        else:\n",
    "            for c in MAPPING[int(phone_number[digit])]:\n",
    "                partial_mnemonic[digit] = c\n",
    "                phone_mnemonic_helper(digit+1)\n",
    "    \n",
    "    mnemonic, partial_mnemonic = [], [0]*len(phone_number)\n",
    "    phone_mnemonic_helper(0)\n",
    "    return mnemonic\n",
    "\n",
    "phone_mnemonic('23')"
   ]
  },
  {
   "cell_type": "code",
   "execution_count": 10,
   "metadata": {},
   "outputs": [
    {
     "data": {
      "text/plain": [
       "['AD', 'AE', 'AF', 'BD', 'BE', 'BF', 'CD', 'CE', 'CF']"
      ]
     },
     "execution_count": 10,
     "metadata": {},
     "output_type": "execute_result"
    }
   ],
   "source": [
    "# Variant: without recursion\n",
    "import itertools\n",
    "MAPPING = ('0', '1', 'ABC', 'DEF', 'GHI', 'JKL', 'MNO', 'PQRS', 'TUV', 'WXYZ')\n",
    "\n",
    "def phone_mnemonic2(phone_number):\n",
    "    dic, ls = {}, []\n",
    "    for digit in range(len(phone_number)):\n",
    "        n = int(phone_number[digit])\n",
    "        dic[digit] = [x for x in MAPPING[n]]\n",
    "    for element in itertools.product(*dic.values()):\n",
    "        ls.append(''.join(element))\n",
    "    return ls\n",
    "\n",
    "phone_mnemonic2('23')"
   ]
  },
  {
   "cell_type": "code",
   "execution_count": 10,
   "metadata": {},
   "outputs": [
    {
     "data": {
      "text/plain": [
       "'1211'"
      ]
     },
     "execution_count": 10,
     "metadata": {},
     "output_type": "execute_result"
    }
   ],
   "source": [
    "# 6.8 Look-and-say\n",
    "# precise time complexity is hard to anlayze. a simple bound to O(n2^n)\n",
    "def look_and_say(n):\n",
    "    def next_number(s):\n",
    "        result, i = [], 0\n",
    "        while i < len(s):\n",
    "            count = 1\n",
    "            while i+1 < len(s) and s[i]==s[i+1]:\n",
    "                i += 1\n",
    "                count += 1\n",
    "            result.append(str(count) + s[i])\n",
    "            i += 1\n",
    "        return ''.join(result)\n",
    "    s = '1'\n",
    "    for _ in range(1, n):\n",
    "        s = next_number(s)\n",
    "    return s\n",
    "\n",
    "look_and_say(4)"
   ]
  },
  {
   "cell_type": "code",
   "execution_count": 9,
   "metadata": {},
   "outputs": [
    {
     "data": {
      "text/plain": [
       "'111221'"
      ]
     },
     "execution_count": 9,
     "metadata": {},
     "output_type": "execute_result"
    }
   ],
   "source": [
    "import itertools\n",
    "# pythonic version\n",
    "def look_and_say_pythonic(n):\n",
    "    s = '1'\n",
    "    for _ in range(n-1):\n",
    "        s = ''.join(\n",
    "                    str(len(list(group))) + key for key, group in itertools.groupby(s))\n",
    "    return s\n",
    "\n",
    "look_and_say_pythonic(5)"
   ]
  },
  {
   "cell_type": "code",
   "execution_count": null,
   "metadata": {},
   "outputs": [],
   "source": []
  },
  {
   "cell_type": "code",
   "execution_count": null,
   "metadata": {},
   "outputs": [],
   "source": []
  }
 ],
 "metadata": {
  "kernelspec": {
   "display_name": "Python 3",
   "language": "python",
   "name": "python3"
  },
  "language_info": {
   "codemirror_mode": {
    "name": "ipython",
    "version": 3
   },
   "file_extension": ".py",
   "mimetype": "text/x-python",
   "name": "python",
   "nbconvert_exporter": "python",
   "pygments_lexer": "ipython3",
   "version": "3.6.5"
  }
 },
 "nbformat": 4,
 "nbformat_minor": 2
}

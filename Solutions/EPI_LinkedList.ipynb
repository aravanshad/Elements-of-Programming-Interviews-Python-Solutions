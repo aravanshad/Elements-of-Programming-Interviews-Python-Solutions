{
 "cells": [
  {
   "cell_type": "code",
   "execution_count": 46,
   "metadata": {},
   "outputs": [],
   "source": [
    "class LinkedList(object):\n",
    "    class Node(object):\n",
    "        \"\"\"\n",
    "        Inner class of LinkedList. Contains a blueprint for a node of the LinkedList\n",
    "        \"\"\"\n",
    "        def __init__(self, value=0, _next=None):\n",
    "            \"\"\"\n",
    "            Initializes a List node with payload v and link n\n",
    "            \"\"\"\n",
    "            self.value=value\n",
    "            self.next= _next\n",
    "\n",
    "        def __eq__(self,other):\n",
    "            \"\"\"\n",
    "            Defining comparison between nodes for unit testing\n",
    "            \"\"\"\n",
    "            if self.value == other.value and self.next == other.next:\n",
    "                return True\n",
    "            else:\n",
    "                return False\n",
    "\n",
    "\n",
    "    def __init__(self, head=None):\n",
    "        \"\"\"\n",
    "        Initializes a LinkedList and sets list head to None\n",
    "        \"\"\"\n",
    "        self.head=head\n",
    "\n",
    "    def __len__(self):\n",
    "        \"\"\"\n",
    "        Returns the current size of the list. O(n), linear time\n",
    "        \"\"\" \n",
    "        current = self.head\n",
    "        count = 0\n",
    "        while current:\n",
    "            count += 1\n",
    "            current = current.next\n",
    "        return count\n",
    "\n",
    "    def __contains__(self,value):\n",
    "        \"\"\"\n",
    "        Returns True or False depending on whether an item with\n",
    "        node.value = value is in the list \n",
    "        \"\"\"\n",
    "        current = self.head\n",
    "        found = False\n",
    "        while current and not found:\n",
    "            if current.value == value:\n",
    "                found = True\n",
    "                return True\n",
    "            else:\n",
    "                current = current.next\n",
    "        if not current:\n",
    "            return False \n",
    "\n",
    "    def __bool__(self):\n",
    "        \"\"\"\n",
    "        Implements boolean check of the class\n",
    "        \"\"\"\n",
    "        if self.__len__() == 0:\n",
    "            return False\n",
    "        else:\n",
    "            return True\n",
    "\n",
    "    def __iter__(self):\n",
    "        \"\"\"\n",
    "        Creates an iterator. Returns itself.\n",
    "        \"\"\"\n",
    "        return self\n",
    "\n",
    "    def __str__(self):\n",
    "        \"\"\"\n",
    "        Prints the current list in the form of a Python list            \n",
    "        \"\"\"\n",
    "        current = self.head\n",
    "        toPrint = []\n",
    "        while current:\n",
    "            toPrint.append(current.value)\n",
    "            current = current.next\n",
    "        return str(toPrint)      \n",
    "\n",
    "    def insert(self, value, position=0):\n",
    "        \"\"\"\n",
    "        Adds an item with payload v to beginning of the list\n",
    "        in O(1) time or to position in the list in O(n) time \n",
    "        \"\"\"\n",
    "        if value is None:\n",
    "            raise ValueError('Cannot add None item to a list')\n",
    "        if position < 0:\n",
    "            raise ValueError('Cannot add to negative position in the list')\n",
    "        if position == 0:\n",
    "            self.node = self.Node(value, self.head)\n",
    "            self.head = self.node\n",
    "            self.current=self.head\n",
    "            return self.node\n",
    "        else:\n",
    "            current = self.head\n",
    "            count = 0\n",
    "            while current and ((count+1)<=position):\n",
    "                #found the position to insert into\n",
    "                if count + 1 == position:\n",
    "                    self.node = self.Node(value, current.next)\n",
    "                    current.next = self.node\n",
    "                    return self.node\n",
    "                else:\n",
    "                    current = current.next\n",
    "                    count += 1\n",
    "            if not current:\n",
    "                return None\n",
    "\n",
    "    def search(self, value):\n",
    "        \"\"\"\n",
    "        Searches the list for a node with payload v. Returns the node object or None if not found. Time complexity is O(n) in worst case.\n",
    "        \"\"\"\n",
    "        current = self.head\n",
    "        found = False\n",
    "        while current and not found:\n",
    "            if current.value == value:\n",
    "                found = True\n",
    "            else:\n",
    "                current = current.next\n",
    "        if not current:\n",
    "            return None\n",
    "        return current\n",
    "\n",
    "    def delete(self, value):\n",
    "        \"\"\"\n",
    "        Searches the list for a node with payload v. Returns the node object or None if not found. Time complexity is O(n) in worst case.\n",
    "        \"\"\"\n",
    "        if value is None:\n",
    "            raise ValueError('Cannot remove None item from the list')\n",
    "        current = self.head\n",
    "        previous = None\n",
    "        found = False\n",
    "        while current and not found:\n",
    "            if current.value == value:\n",
    "                found = True\n",
    "            else:\n",
    "                previous = current\n",
    "                current = current.next\n",
    "        # nothing found, return None\n",
    "        if not current:\n",
    "            return None\n",
    "        # the case where first item is being deleted\n",
    "        if not previous:\n",
    "            self.head = current.next\n",
    "        # item from inside of the list is being deleted    \n",
    "        else:\n",
    "            previous.next = current.next\n",
    "\n",
    "        return current"
   ]
  },
  {
   "cell_type": "code",
   "execution_count": 47,
   "metadata": {},
   "outputs": [
    {
     "data": {
      "text/plain": [
       "<__main__.Node at 0x108650890>"
      ]
     },
     "execution_count": 47,
     "metadata": {},
     "output_type": "execute_result"
    }
   ],
   "source": [
    "e3 = LinkedList.Node(3)\n",
    "e4 = LinkedList.Node(4)\n",
    "e5 = LinkedList.Node(5)\n",
    "e6 = LinkedList.Node(6)\n",
    "\n",
    "LL = LinkedList(1)\n",
    "LL.insert(5)\n",
    "LL.insert(4)\n",
    "LL.insert(3)\n",
    "LL.insert(2)\n",
    "LL.insert(1)\n",
    "\n",
    "LM = LinkedList(2)\n",
    "LM.insert(5)\n",
    "LM.insert(2)\n",
    "LM.insert(1)"
   ]
  },
  {
   "cell_type": "code",
   "execution_count": 18,
   "metadata": {},
   "outputs": [],
   "source": [
    "class ListNode:\n",
    "    def __init__(self, data=0, next_node=None):\n",
    "        self.data = data\n",
    "        self.next = next_node\n",
    "        \n",
    "def search_list(L, key):\n",
    "    while L and L.data != key:\n",
    "        L = L.next\n",
    "    return L\n",
    "\n",
    "def insert_after(node, new_node):\n",
    "    new_node.next = node.next\n",
    "    node.next = new_node\n",
    "\n",
    "def delete_after(node):\n",
    "    node.next = node.next.next\n"
   ]
  },
  {
   "cell_type": "code",
   "execution_count": 58,
   "metadata": {},
   "outputs": [],
   "source": [
    "e1 = ListNode(1)\n",
    "e2 = ListNode(2)\n",
    "e3 = ListNode(3)\n",
    "e4 = ListNode(4)\n",
    "\n",
    "\n",
    "L1 = insert_after(e1,e2)\n",
    "L2 = insert_after(e3,e4)"
   ]
  },
  {
   "cell_type": "code",
   "execution_count": 61,
   "metadata": {},
   "outputs": [],
   "source": [
    "def merge_two_sorted_lists(L1, L2):\n",
    "    dummy_head = tail = LinkedList.Node()\n",
    "    \n",
    "    while L1 and L2:\n",
    "        if L1.value < L2.value:\n",
    "            tail.next, L1 = L1, L1.next\n",
    "        else:\n",
    "            tail.next, L2 = L2, L2.next\n",
    "            \n",
    "        tail = tail.next\n",
    "    tail.next = L1 or L2\n",
    "    \n",
    "    return dummy_head.next\n",
    "\n",
    "m = merge_two_sorted_lists(L1, L2)"
   ]
  },
  {
   "cell_type": "code",
   "execution_count": 69,
   "metadata": {},
   "outputs": [
    {
     "ename": "AttributeError",
     "evalue": "'NoneType' object has no attribute 'data'",
     "output_type": "error",
     "traceback": [
      "\u001b[0;31m---------------------------------------------------------------------------\u001b[0m",
      "\u001b[0;31mAttributeError\u001b[0m                            Traceback (most recent call last)",
      "\u001b[0;32m<ipython-input-69-3781ae67095c>\u001b[0m in \u001b[0;36m<module>\u001b[0;34m()\u001b[0m\n\u001b[0;32m----> 1\u001b[0;31m \u001b[0me1\u001b[0m\u001b[0;34m.\u001b[0m\u001b[0mnext\u001b[0m\u001b[0;34m.\u001b[0m\u001b[0mnext\u001b[0m\u001b[0;34m.\u001b[0m\u001b[0mdata\u001b[0m\u001b[0;34m\u001b[0m\u001b[0m\n\u001b[0m",
      "\u001b[0;31mAttributeError\u001b[0m: 'NoneType' object has no attribute 'data'"
     ]
    }
   ],
   "source": [
    "e1.next.next.data"
   ]
  },
  {
   "cell_type": "code",
   "execution_count": 17,
   "metadata": {},
   "outputs": [
    {
     "ename": "AttributeError",
     "evalue": "'int' object has no attribute 'next'",
     "output_type": "error",
     "traceback": [
      "\u001b[0;31m---------------------------------------------------------------------------\u001b[0m",
      "\u001b[0;31mAttributeError\u001b[0m                            Traceback (most recent call last)",
      "\u001b[0;32m<ipython-input-17-9a146028abab>\u001b[0m in \u001b[0;36m<module>\u001b[0;34m()\u001b[0m\n\u001b[1;32m     21\u001b[0m     \u001b[0;32mreturn\u001b[0m \u001b[0mL1\u001b[0m\u001b[0;34m\u001b[0m\u001b[0m\n\u001b[1;32m     22\u001b[0m \u001b[0;34m\u001b[0m\u001b[0m\n\u001b[0;32m---> 23\u001b[0;31m \u001b[0moverlapping_no_cycle_list\u001b[0m\u001b[0;34m(\u001b[0m\u001b[0mLL\u001b[0m\u001b[0;34m,\u001b[0m \u001b[0mLM\u001b[0m\u001b[0;34m)\u001b[0m\u001b[0;34m\u001b[0m\u001b[0m\n\u001b[0m",
      "\u001b[0;32m<ipython-input-17-9a146028abab>\u001b[0m in \u001b[0;36moverlapping_no_cycle_list\u001b[0;34m(L1, L2)\u001b[0m\n\u001b[1;32m      9\u001b[0m         \u001b[0;32mreturn\u001b[0m \u001b[0mLength\u001b[0m\u001b[0;34m\u001b[0m\u001b[0m\n\u001b[1;32m     10\u001b[0m \u001b[0;34m\u001b[0m\u001b[0m\n\u001b[0;32m---> 11\u001b[0;31m     \u001b[0mL1_len\u001b[0m\u001b[0;34m,\u001b[0m \u001b[0mL2_len\u001b[0m \u001b[0;34m=\u001b[0m \u001b[0mlength\u001b[0m\u001b[0;34m(\u001b[0m\u001b[0mL1\u001b[0m\u001b[0;34m)\u001b[0m\u001b[0;34m,\u001b[0m \u001b[0mlength\u001b[0m\u001b[0;34m(\u001b[0m\u001b[0mL2\u001b[0m\u001b[0;34m)\u001b[0m\u001b[0;34m\u001b[0m\u001b[0m\n\u001b[0m\u001b[1;32m     12\u001b[0m     \u001b[0;32mif\u001b[0m \u001b[0mL1_len\u001b[0m \u001b[0;34m>\u001b[0m \u001b[0mL2_len\u001b[0m\u001b[0;34m:\u001b[0m\u001b[0;34m\u001b[0m\u001b[0m\n\u001b[1;32m     13\u001b[0m         \u001b[0mL1\u001b[0m\u001b[0;34m,\u001b[0m \u001b[0mL2\u001b[0m \u001b[0;34m=\u001b[0m \u001b[0mL2\u001b[0m\u001b[0;34m,\u001b[0m \u001b[0mL1\u001b[0m\u001b[0;34m\u001b[0m\u001b[0m\n",
      "\u001b[0;32m<ipython-input-17-9a146028abab>\u001b[0m in \u001b[0;36mlength\u001b[0;34m(L)\u001b[0m\n\u001b[1;32m      4\u001b[0m     \u001b[0;32mdef\u001b[0m \u001b[0mlength\u001b[0m\u001b[0;34m(\u001b[0m\u001b[0mL\u001b[0m\u001b[0;34m)\u001b[0m\u001b[0;34m:\u001b[0m\u001b[0;34m\u001b[0m\u001b[0m\n\u001b[1;32m      5\u001b[0m         \u001b[0mLength\u001b[0m \u001b[0;34m=\u001b[0m \u001b[0;36m0\u001b[0m\u001b[0;34m\u001b[0m\u001b[0m\n\u001b[0;32m----> 6\u001b[0;31m         \u001b[0;32mwhile\u001b[0m \u001b[0mL\u001b[0m\u001b[0;34m:\u001b[0m\u001b[0;34m\u001b[0m\u001b[0m\n\u001b[0m\u001b[1;32m      7\u001b[0m             \u001b[0mLength\u001b[0m \u001b[0;34m+=\u001b[0m \u001b[0;36m1\u001b[0m\u001b[0;34m\u001b[0m\u001b[0m\n\u001b[1;32m      8\u001b[0m             \u001b[0mL\u001b[0m \u001b[0;34m=\u001b[0m \u001b[0mL\u001b[0m\u001b[0;34m.\u001b[0m\u001b[0mnextt\u001b[0m\u001b[0;34m(\u001b[0m\u001b[0;34m)\u001b[0m\u001b[0;34m\u001b[0m\u001b[0m\n",
      "\u001b[0;32m<ipython-input-7-0bce2b64ccd8>\u001b[0m in \u001b[0;36m__len__\u001b[0;34m(self)\u001b[0m\n\u001b[1;32m     36\u001b[0m         \u001b[0;32mwhile\u001b[0m \u001b[0mcurrent\u001b[0m\u001b[0;34m:\u001b[0m\u001b[0;34m\u001b[0m\u001b[0m\n\u001b[1;32m     37\u001b[0m             \u001b[0mcount\u001b[0m \u001b[0;34m+=\u001b[0m \u001b[0;36m1\u001b[0m\u001b[0;34m\u001b[0m\u001b[0m\n\u001b[0;32m---> 38\u001b[0;31m             \u001b[0mcurrent\u001b[0m \u001b[0;34m=\u001b[0m \u001b[0mcurrent\u001b[0m\u001b[0;34m.\u001b[0m\u001b[0mnext\u001b[0m\u001b[0;34m\u001b[0m\u001b[0m\n\u001b[0m\u001b[1;32m     39\u001b[0m         \u001b[0;32mreturn\u001b[0m \u001b[0mcount\u001b[0m\u001b[0;34m\u001b[0m\u001b[0m\n\u001b[1;32m     40\u001b[0m \u001b[0;34m\u001b[0m\u001b[0m\n",
      "\u001b[0;31mAttributeError\u001b[0m: 'int' object has no attribute 'next'"
     ]
    }
   ],
   "source": [
    "# 7.4 Overlapping cycle-free lists\n",
    "# Time complexity is O(n) and space complexity is O(1)\n",
    "def overlapping_no_cycle_list(L1,L2):\n",
    "    def length(L):\n",
    "        Length = 0\n",
    "        while L:\n",
    "            Length += 1\n",
    "            L = L.nextt()\n",
    "        return Length\n",
    "    \n",
    "    L1_len, L2_len = length(L1), length(L2)\n",
    "    if L1_len > L2_len:\n",
    "        L1, L2 = L2, L1\n",
    "        \n",
    "    for _ in range(abs(L1_len - L2_len)):\n",
    "        L2 = L2.next\n",
    "        \n",
    "    while L1 and L2 and L1 is not L2:\n",
    "        L1, L2 = L1.next, L2.next\n",
    "    \n",
    "    return L1\n",
    "\n",
    "overlapping_no_cycle_list(LL, LM)"
   ]
  },
  {
   "cell_type": "code",
   "execution_count": null,
   "metadata": {},
   "outputs": [],
   "source": [
    "# 7.7 Remove the kth last element from a list\n",
    "# Time complexity is O(n) and space complexity is O(1)\n",
    "def remove_kth_last(L,k):\n",
    "    dummy_head = ListNode(0,L)\n",
    "    first = dummy_head.next\n",
    "    for _ in range(k):\n",
    "        first= first.next\n",
    "    \n",
    "    second = dummy_head\n",
    "    while first:\n",
    "        first, second = first.next, second.next\n",
    "        \n",
    "    second.next = second.next.next\n",
    "    return dummy_head.next"
   ]
  },
  {
   "cell_type": "code",
   "execution_count": 1,
   "metadata": {},
   "outputs": [],
   "source": [
    "def partitionn(A): \n",
    "    pivot = A[-1]\n",
    "    for i in reversed(range(1,len(A)+1)):\n",
    "        B = A[:i]\n",
    "        print(B[-1])\n",
    "        if pivot > B[0]:        \n",
    "            B[0], B[-2], B[-1] = B[-2], B[-1], B[0]\n",
    "            A[:i] = B\n",
    "            print(A)\n",
    "    q = A.index(pivot)\n",
    "    return q,A\n",
    "\n",
    "\n",
    "def quickSort(A):\n",
    "    pi = partition(A)\n",
    "    quickSort(A[:pi-1])\n",
    "    quickSort(A[pi+1:])\n",
    "    "
   ]
  },
  {
   "cell_type": "code",
   "execution_count": 2,
   "metadata": {},
   "outputs": [
    {
     "ename": "TypeError",
     "evalue": "quickSort() takes exactly 1 argument (3 given)",
     "output_type": "error",
     "traceback": [
      "\u001b[0;31m---------------------------------------------------------------------------\u001b[0m",
      "\u001b[0;31mTypeError\u001b[0m                                 Traceback (most recent call last)",
      "\u001b[0;32m<ipython-input-2-e9be29babedd>\u001b[0m in \u001b[0;36m<module>\u001b[0;34m()\u001b[0m\n\u001b[1;32m      1\u001b[0m \u001b[0mA1\u001b[0m \u001b[0;34m=\u001b[0m \u001b[0;34m[\u001b[0m\u001b[0;36m2\u001b[0m\u001b[0;34m,\u001b[0m\u001b[0;36m3\u001b[0m\u001b[0;34m,\u001b[0m\u001b[0;36m7\u001b[0m\u001b[0;34m,\u001b[0m\u001b[0;36m4\u001b[0m\u001b[0;34m,\u001b[0m\u001b[0;36m6\u001b[0m\u001b[0;34m,\u001b[0m\u001b[0;36m8\u001b[0m\u001b[0;34m,\u001b[0m\u001b[0;36m5\u001b[0m\u001b[0;34m]\u001b[0m\u001b[0;34m\u001b[0m\u001b[0m\n\u001b[0;32m----> 2\u001b[0;31m \u001b[0mquickSort\u001b[0m\u001b[0;34m(\u001b[0m\u001b[0mA1\u001b[0m\u001b[0;34m,\u001b[0m \u001b[0;36m0\u001b[0m\u001b[0;34m,\u001b[0m \u001b[0mlen\u001b[0m\u001b[0;34m(\u001b[0m\u001b[0mA1\u001b[0m\u001b[0;34m)\u001b[0m\u001b[0;34m-\u001b[0m\u001b[0;36m1\u001b[0m\u001b[0;34m)\u001b[0m\u001b[0;34m\u001b[0m\u001b[0m\n\u001b[0m",
      "\u001b[0;31mTypeError\u001b[0m: quickSort() takes exactly 1 argument (3 given)"
     ]
    }
   ],
   "source": [
    "A1 = [2,3,7,4,6,8,5]\n",
    "quickSort(A1, 0, len(A1)-1)"
   ]
  },
  {
   "cell_type": "code",
   "execution_count": 11,
   "metadata": {},
   "outputs": [],
   "source": [
    "def partition(arr,low,high):\n",
    "    i = ( low-1 ) # index of smaller element\n",
    "    pivot = arr[high] # pivot\n",
    "\n",
    "    for j in range(low , high):\n",
    "\n",
    "        if arr[j] <= pivot:\n",
    "\n",
    "            i = i+1\n",
    "            arr[i],arr[j] = arr[j],arr[i]\n",
    "\n",
    "    arr[i+1],arr[high] = arr[high],arr[i+1]\n",
    "    return ( i+1 )\n",
    "\n",
    "def quickSort(A,low,high):\n",
    "    if low < high:\n",
    " \n",
    "        # pi is partitioning index, arr[p] is now\n",
    "        # at right place\n",
    "        pi = partition(A,low,high)\n",
    " \n",
    "        # Separately sort elements before\n",
    "        # partition and after partition\n",
    "        quickSort(A, low, pi-1)\n",
    "        quickSort(A, pi+1, high)\n",
    "        return A"
   ]
  },
  {
   "cell_type": "code",
   "execution_count": 12,
   "metadata": {},
   "outputs": [
    {
     "data": {
      "text/plain": [
       "[17, 20, 26, 31, 44, 54, 55, 77, 93]"
      ]
     },
     "execution_count": 12,
     "metadata": {},
     "output_type": "execute_result"
    }
   ],
   "source": [
    "A2 = [54,26,93,17,77,31,44,55,20]\n",
    "\n",
    "quickSort(A2,0,len(A2)-1)"
   ]
  },
  {
   "cell_type": "code",
   "execution_count": 15,
   "metadata": {},
   "outputs": [
    {
     "data": {
      "text/plain": [
       "['Bronze Medal', '4', '6', '7', 'Silver Medal', '5', 'Gold Medal']"
      ]
     },
     "execution_count": 15,
     "metadata": {},
     "output_type": "execute_result"
    }
   ],
   "source": [
    "def findRelativeRanks(nums):\n",
    "    sort = sorted(nums)[::-1]\n",
    "    rank = [\"Gold Medal\", \"Silver Medal\", \"Bronze Medal\"] + map(str, range(4, len(nums) + 1))\n",
    "    return map(dict(zip(sort, rank)).get, nums)\n",
    "\n",
    "num = [5,4,2,1,6,3,7]\n",
    "findRelativeRanks(num)"
   ]
  },
  {
   "cell_type": "code",
   "execution_count": 28,
   "metadata": {},
   "outputs": [
    {
     "data": {
      "text/plain": [
       "False"
      ]
     },
     "execution_count": 28,
     "metadata": {},
     "output_type": "execute_result"
    }
   ],
   "source": [
    "1 != num[-1]"
   ]
  },
  {
   "cell_type": "code",
   "execution_count": 22,
   "metadata": {},
   "outputs": [],
   "source": [
    "e1 = ListNode(1)\n",
    "e2 = ListNode(2)\n",
    "e3 = ListNode(3)\n",
    "e4 = ListNode(4)\n",
    "e5 = ListNode(5)\n",
    "\n",
    "insert_after(e1,e2)\n",
    "insert_after(e2, e3)\n"
   ]
  },
  {
   "cell_type": "code",
   "execution_count": null,
   "metadata": {},
   "outputs": [],
   "source": []
  }
 ],
 "metadata": {
  "kernelspec": {
   "display_name": "Python [conda root]",
   "language": "python",
   "name": "conda-root-py"
  },
  "language_info": {
   "codemirror_mode": {
    "name": "ipython",
    "version": 2
   },
   "file_extension": ".py",
   "mimetype": "text/x-python",
   "name": "python",
   "nbconvert_exporter": "python",
   "pygments_lexer": "ipython2",
   "version": "2.7.13"
  }
 },
 "nbformat": 4,
 "nbformat_minor": 2
}
